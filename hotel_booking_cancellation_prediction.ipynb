{
 "cells": [
  {
   "cell_type": "markdown",
   "metadata": {
    "id": "wISsMYJfPqI_"
   },
   "source": [
    "Importing libraries and modules"
   ]
  },
  {
   "cell_type": "code",
   "execution_count": 40,
   "metadata": {
    "id": "2aKBs1BdnVHl"
   },
   "outputs": [],
   "source": [
    "import pandas as pd\n",
    "from keras.models import Sequential \n",
    "from keras.layers import Dense \n",
    "from sklearn.model_selection import train_test_split \n",
    "from sklearn.preprocessing import StandardScaler "
   ]
  },
  {
   "cell_type": "markdown",
   "metadata": {
    "id": "v4UIXTkOPs2D"
   },
   "source": [
    "Importing dataset"
   ]
  },
  {
   "cell_type": "code",
   "execution_count": 41,
   "metadata": {
    "id": "4ydvP2TlndQq"
   },
   "outputs": [],
   "source": [
    "df = pd.read_csv('H2.csv')"
   ]
  },
  {
   "cell_type": "markdown",
   "metadata": {
    "id": "fkQjiQytTx5h"
   },
   "source": [
    "Inspecting the dataset"
   ]
  },
  {
   "cell_type": "code",
   "execution_count": 42,
   "metadata": {},
   "outputs": [
    {
     "name": "stdout",
     "output_type": "stream",
     "text": [
      "<class 'pandas.core.frame.DataFrame'>\n",
      "RangeIndex: 79330 entries, 0 to 79329\n",
      "Data columns (total 31 columns):\n",
      " #   Column                       Non-Null Count  Dtype  \n",
      "---  ------                       --------------  -----  \n",
      " 0   IsCanceled                   79330 non-null  int64  \n",
      " 1   LeadTime                     79330 non-null  int64  \n",
      " 2   ArrivalDateYear              79330 non-null  int64  \n",
      " 3   ArrivalDateMonth             79330 non-null  object \n",
      " 4   ArrivalDateWeekNumber        79330 non-null  int64  \n",
      " 5   ArrivalDateDayOfMonth        79330 non-null  int64  \n",
      " 6   StaysInWeekendNights         79330 non-null  int64  \n",
      " 7   StaysInWeekNights            79330 non-null  int64  \n",
      " 8   Adults                       79330 non-null  int64  \n",
      " 9   Children                     79326 non-null  float64\n",
      " 10  Babies                       79330 non-null  int64  \n",
      " 11  Meal                         79330 non-null  object \n",
      " 12  Country                      79306 non-null  object \n",
      " 13  MarketSegment                79330 non-null  object \n",
      " 14  DistributionChannel          79330 non-null  object \n",
      " 15  IsRepeatedGuest              79330 non-null  int64  \n",
      " 16  PreviousCancellations        79330 non-null  int64  \n",
      " 17  PreviousBookingsNotCanceled  79330 non-null  int64  \n",
      " 18  ReservedRoomType             79330 non-null  object \n",
      " 19  AssignedRoomType             79330 non-null  object \n",
      " 20  BookingChanges               79330 non-null  int64  \n",
      " 21  DepositType                  79330 non-null  object \n",
      " 22  Agent                        79330 non-null  object \n",
      " 23  Company                      79330 non-null  object \n",
      " 24  DaysInWaitingList            79330 non-null  int64  \n",
      " 25  CustomerType                 79330 non-null  object \n",
      " 26  ADR                          79330 non-null  float64\n",
      " 27  RequiredCarParkingSpaces     79330 non-null  int64  \n",
      " 28  TotalOfSpecialRequests       79330 non-null  int64  \n",
      " 29  ReservationStatus            79330 non-null  object \n",
      " 30  ReservationStatusDate        79330 non-null  object \n",
      "dtypes: float64(2), int64(16), object(13)\n",
      "memory usage: 18.8+ MB\n"
     ]
    }
   ],
   "source": [
    "df.info()"
   ]
  },
  {
   "cell_type": "code",
   "execution_count": 43,
   "metadata": {
    "colab": {
     "base_uri": "https://localhost:8080/",
     "height": 206
    },
    "id": "T_pSB3-sWQKS",
    "outputId": "8be18d53-4354-4422-dfa5-bf54c7b87bfd"
   },
   "outputs": [
    {
     "data": {
      "text/html": [
       "<div>\n",
       "<style scoped>\n",
       "    .dataframe tbody tr th:only-of-type {\n",
       "        vertical-align: middle;\n",
       "    }\n",
       "\n",
       "    .dataframe tbody tr th {\n",
       "        vertical-align: top;\n",
       "    }\n",
       "\n",
       "    .dataframe thead th {\n",
       "        text-align: right;\n",
       "    }\n",
       "</style>\n",
       "<table border=\"1\" class=\"dataframe\">\n",
       "  <thead>\n",
       "    <tr style=\"text-align: right;\">\n",
       "      <th></th>\n",
       "      <th>IsCanceled</th>\n",
       "      <th>LeadTime</th>\n",
       "      <th>ArrivalDateYear</th>\n",
       "      <th>ArrivalDateMonth</th>\n",
       "      <th>ArrivalDateWeekNumber</th>\n",
       "      <th>ArrivalDateDayOfMonth</th>\n",
       "      <th>StaysInWeekendNights</th>\n",
       "      <th>StaysInWeekNights</th>\n",
       "      <th>Adults</th>\n",
       "      <th>Children</th>\n",
       "      <th>Babies</th>\n",
       "      <th>Meal</th>\n",
       "      <th>Country</th>\n",
       "      <th>MarketSegment</th>\n",
       "      <th>DistributionChannel</th>\n",
       "      <th>IsRepeatedGuest</th>\n",
       "      <th>PreviousCancellations</th>\n",
       "      <th>PreviousBookingsNotCanceled</th>\n",
       "      <th>ReservedRoomType</th>\n",
       "      <th>AssignedRoomType</th>\n",
       "      <th>BookingChanges</th>\n",
       "      <th>DepositType</th>\n",
       "      <th>Agent</th>\n",
       "      <th>Company</th>\n",
       "      <th>DaysInWaitingList</th>\n",
       "      <th>CustomerType</th>\n",
       "      <th>ADR</th>\n",
       "      <th>RequiredCarParkingSpaces</th>\n",
       "      <th>TotalOfSpecialRequests</th>\n",
       "      <th>ReservationStatus</th>\n",
       "      <th>ReservationStatusDate</th>\n",
       "    </tr>\n",
       "  </thead>\n",
       "  <tbody>\n",
       "    <tr>\n",
       "      <th>0</th>\n",
       "      <td>0</td>\n",
       "      <td>6</td>\n",
       "      <td>2015</td>\n",
       "      <td>July</td>\n",
       "      <td>27</td>\n",
       "      <td>1</td>\n",
       "      <td>0</td>\n",
       "      <td>2</td>\n",
       "      <td>1</td>\n",
       "      <td>0.0</td>\n",
       "      <td>0</td>\n",
       "      <td>HB</td>\n",
       "      <td>PRT</td>\n",
       "      <td>Offline TA/TO</td>\n",
       "      <td>TA/TO</td>\n",
       "      <td>0</td>\n",
       "      <td>0</td>\n",
       "      <td>0</td>\n",
       "      <td>A</td>\n",
       "      <td>A</td>\n",
       "      <td>0</td>\n",
       "      <td>No Deposit</td>\n",
       "      <td>6</td>\n",
       "      <td>NULL</td>\n",
       "      <td>0</td>\n",
       "      <td>Transient</td>\n",
       "      <td>0.0</td>\n",
       "      <td>0</td>\n",
       "      <td>0</td>\n",
       "      <td>Check-Out</td>\n",
       "      <td>7/3/2015</td>\n",
       "    </tr>\n",
       "    <tr>\n",
       "      <th>1</th>\n",
       "      <td>1</td>\n",
       "      <td>88</td>\n",
       "      <td>2015</td>\n",
       "      <td>July</td>\n",
       "      <td>27</td>\n",
       "      <td>1</td>\n",
       "      <td>0</td>\n",
       "      <td>4</td>\n",
       "      <td>2</td>\n",
       "      <td>0.0</td>\n",
       "      <td>0</td>\n",
       "      <td>BB</td>\n",
       "      <td>PRT</td>\n",
       "      <td>Online TA</td>\n",
       "      <td>TA/TO</td>\n",
       "      <td>0</td>\n",
       "      <td>0</td>\n",
       "      <td>0</td>\n",
       "      <td>A</td>\n",
       "      <td>A</td>\n",
       "      <td>0</td>\n",
       "      <td>No Deposit</td>\n",
       "      <td>9</td>\n",
       "      <td>NULL</td>\n",
       "      <td>0</td>\n",
       "      <td>Transient</td>\n",
       "      <td>76.5</td>\n",
       "      <td>0</td>\n",
       "      <td>1</td>\n",
       "      <td>Canceled</td>\n",
       "      <td>7/1/2015</td>\n",
       "    </tr>\n",
       "    <tr>\n",
       "      <th>2</th>\n",
       "      <td>1</td>\n",
       "      <td>65</td>\n",
       "      <td>2015</td>\n",
       "      <td>July</td>\n",
       "      <td>27</td>\n",
       "      <td>1</td>\n",
       "      <td>0</td>\n",
       "      <td>4</td>\n",
       "      <td>1</td>\n",
       "      <td>0.0</td>\n",
       "      <td>0</td>\n",
       "      <td>BB</td>\n",
       "      <td>PRT</td>\n",
       "      <td>Online TA</td>\n",
       "      <td>TA/TO</td>\n",
       "      <td>0</td>\n",
       "      <td>0</td>\n",
       "      <td>0</td>\n",
       "      <td>A</td>\n",
       "      <td>A</td>\n",
       "      <td>0</td>\n",
       "      <td>No Deposit</td>\n",
       "      <td>9</td>\n",
       "      <td>NULL</td>\n",
       "      <td>0</td>\n",
       "      <td>Transient</td>\n",
       "      <td>68.0</td>\n",
       "      <td>0</td>\n",
       "      <td>1</td>\n",
       "      <td>Canceled</td>\n",
       "      <td>4/30/2015</td>\n",
       "    </tr>\n",
       "    <tr>\n",
       "      <th>3</th>\n",
       "      <td>1</td>\n",
       "      <td>92</td>\n",
       "      <td>2015</td>\n",
       "      <td>July</td>\n",
       "      <td>27</td>\n",
       "      <td>1</td>\n",
       "      <td>2</td>\n",
       "      <td>4</td>\n",
       "      <td>2</td>\n",
       "      <td>0.0</td>\n",
       "      <td>0</td>\n",
       "      <td>BB</td>\n",
       "      <td>PRT</td>\n",
       "      <td>Online TA</td>\n",
       "      <td>TA/TO</td>\n",
       "      <td>0</td>\n",
       "      <td>0</td>\n",
       "      <td>0</td>\n",
       "      <td>A</td>\n",
       "      <td>A</td>\n",
       "      <td>0</td>\n",
       "      <td>No Deposit</td>\n",
       "      <td>9</td>\n",
       "      <td>NULL</td>\n",
       "      <td>0</td>\n",
       "      <td>Transient</td>\n",
       "      <td>76.5</td>\n",
       "      <td>0</td>\n",
       "      <td>2</td>\n",
       "      <td>Canceled</td>\n",
       "      <td>6/23/2015</td>\n",
       "    </tr>\n",
       "    <tr>\n",
       "      <th>4</th>\n",
       "      <td>1</td>\n",
       "      <td>100</td>\n",
       "      <td>2015</td>\n",
       "      <td>July</td>\n",
       "      <td>27</td>\n",
       "      <td>2</td>\n",
       "      <td>0</td>\n",
       "      <td>2</td>\n",
       "      <td>2</td>\n",
       "      <td>0.0</td>\n",
       "      <td>0</td>\n",
       "      <td>BB</td>\n",
       "      <td>PRT</td>\n",
       "      <td>Online TA</td>\n",
       "      <td>TA/TO</td>\n",
       "      <td>0</td>\n",
       "      <td>0</td>\n",
       "      <td>0</td>\n",
       "      <td>A</td>\n",
       "      <td>A</td>\n",
       "      <td>0</td>\n",
       "      <td>No Deposit</td>\n",
       "      <td>9</td>\n",
       "      <td>NULL</td>\n",
       "      <td>0</td>\n",
       "      <td>Transient</td>\n",
       "      <td>76.5</td>\n",
       "      <td>0</td>\n",
       "      <td>1</td>\n",
       "      <td>Canceled</td>\n",
       "      <td>4/2/2015</td>\n",
       "    </tr>\n",
       "  </tbody>\n",
       "</table>\n",
       "</div>"
      ],
      "text/plain": [
       "   IsCanceled  LeadTime  ArrivalDateYear ArrivalDateMonth  \\\n",
       "0           0         6             2015             July   \n",
       "1           1        88             2015             July   \n",
       "2           1        65             2015             July   \n",
       "3           1        92             2015             July   \n",
       "4           1       100             2015             July   \n",
       "\n",
       "   ArrivalDateWeekNumber  ArrivalDateDayOfMonth  StaysInWeekendNights  \\\n",
       "0                     27                      1                     0   \n",
       "1                     27                      1                     0   \n",
       "2                     27                      1                     0   \n",
       "3                     27                      1                     2   \n",
       "4                     27                      2                     0   \n",
       "\n",
       "   StaysInWeekNights  Adults  Children  Babies       Meal Country  \\\n",
       "0                  2       1       0.0       0  HB            PRT   \n",
       "1                  4       2       0.0       0  BB            PRT   \n",
       "2                  4       1       0.0       0  BB            PRT   \n",
       "3                  4       2       0.0       0  BB            PRT   \n",
       "4                  2       2       0.0       0  BB            PRT   \n",
       "\n",
       "   MarketSegment DistributionChannel  IsRepeatedGuest  PreviousCancellations  \\\n",
       "0  Offline TA/TO               TA/TO                0                      0   \n",
       "1      Online TA               TA/TO                0                      0   \n",
       "2      Online TA               TA/TO                0                      0   \n",
       "3      Online TA               TA/TO                0                      0   \n",
       "4      Online TA               TA/TO                0                      0   \n",
       "\n",
       "   PreviousBookingsNotCanceled  ReservedRoomType  AssignedRoomType  \\\n",
       "0                            0  A                 A                  \n",
       "1                            0  A                 A                  \n",
       "2                            0  A                 A                  \n",
       "3                            0  A                 A                  \n",
       "4                            0  A                 A                  \n",
       "\n",
       "   BookingChanges      DepositType Agent      Company  DaysInWaitingList  \\\n",
       "0               0  No Deposit          6         NULL                  0   \n",
       "1               0  No Deposit          9         NULL                  0   \n",
       "2               0  No Deposit          9         NULL                  0   \n",
       "3               0  No Deposit          9         NULL                  0   \n",
       "4               0  No Deposit          9         NULL                  0   \n",
       "\n",
       "  CustomerType   ADR  RequiredCarParkingSpaces  TotalOfSpecialRequests  \\\n",
       "0    Transient   0.0                         0                       0   \n",
       "1    Transient  76.5                         0                       1   \n",
       "2    Transient  68.0                         0                       1   \n",
       "3    Transient  76.5                         0                       2   \n",
       "4    Transient  76.5                         0                       1   \n",
       "\n",
       "  ReservationStatus ReservationStatusDate  \n",
       "0         Check-Out              7/3/2015  \n",
       "1          Canceled              7/1/2015  \n",
       "2          Canceled             4/30/2015  \n",
       "3          Canceled             6/23/2015  \n",
       "4          Canceled              4/2/2015  "
      ]
     },
     "execution_count": 43,
     "metadata": {},
     "output_type": "execute_result"
    }
   ],
   "source": [
    "pd.set_option('display.max_columns', None)\n",
    "df.head()"
   ]
  },
  {
   "cell_type": "markdown",
   "metadata": {
    "id": "MFygGkTEP0WT"
   },
   "source": [
    "Preprocess input data"
   ]
  },
  {
   "cell_type": "code",
   "execution_count": 44,
   "metadata": {
    "id": "ZMZ_dmfFytNO"
   },
   "outputs": [],
   "source": [
    "#Dropping columns that does not have significance in predicting hotel booking cancellation\n",
    "df.drop('ArrivalDateYear', axis=1, inplace=True)\n",
    "df.drop('ArrivalDateWeekNumber', axis=1, inplace=True)\n",
    "df.drop('ArrivalDateDayOfMonth', axis=1, inplace=True)\n",
    "\n",
    "#Converting text values in ArrivalDateMonth column to numeric values\n",
    "month_dict = {'January':1, 'February':2, 'March':3, 'April':4, 'May':5, 'June':6,\n",
    "              'July':7, 'August':8, 'September':9, 'October':10, 'November':11, 'December':12 }\n",
    "df[\"ArrivalDateMonth\"] = df[\"ArrivalDateMonth\"].apply(lambda x: month_dict.get(x))\n",
    "\n",
    "#Converting Children column to integer\n",
    "df['Children'] = df['Children'].fillna(0)\n",
    "df[\"Children\"] = df[\"Children\"].astype(int)\n",
    "\n",
    "#Converting text values in Meal column to numeric values\n",
    "df['Meal'] = df['Meal'].str.strip()\n",
    "df['Meal'].mask(df['Meal'] == 'SC', 0, inplace=True)\n",
    "df['Meal'].mask(df['Meal'] == 'BB', 1, inplace=True)\n",
    "df['Meal'].mask(df['Meal'] == 'HB', 2, inplace=True)\n",
    "df['Meal'].mask(df['Meal'] == 'FB', 3, inplace=True)\n",
    "\n",
    "#Converting text values in Country column to numeric values\n",
    "country_dict = dict.fromkeys(df.Country.unique())\n",
    "country_dict = dict(zip(country_dict, range(0,len(df.Country.unique()))))\n",
    "df[\"Country\"] = df[\"Country\"].apply(lambda x: country_dict.get(x))\n",
    "\n",
    "#Converting text values in MarketSegment column to numeric values\n",
    "market_segment_dict = dict.fromkeys(df.MarketSegment.unique())\n",
    "market_segment_dict = dict(zip(market_segment_dict, range(0,len(df.MarketSegment.unique()))))\n",
    "df[\"MarketSegment\"] = df[\"MarketSegment\"].apply(lambda x: market_segment_dict.get(x))\n",
    "\n",
    "#Converting text values in DistributionChannel column to numeric values\n",
    "distribution_channel_dict = dict.fromkeys(df.DistributionChannel.unique())\n",
    "distribution_channel_dict = dict(zip(distribution_channel_dict, range(0,len(df.DistributionChannel.unique()))))\n",
    "df[\"DistributionChannel\"] = df[\"DistributionChannel\"].apply(lambda x: distribution_channel_dict.get(x))\n",
    "\n",
    "#Converting text values in ReservedRoomType column to numeric values\n",
    "df['ReservedRoomType'] = df['ReservedRoomType'].str.strip()\n",
    "reserved_room_type_dict = dict.fromkeys(df.ReservedRoomType.unique())\n",
    "reserved_room_type_dict = dict(zip(reserved_room_type_dict, range(0,len(df.ReservedRoomType.unique()))))\n",
    "df[\"ReservedRoomType\"] = df[\"ReservedRoomType\"].apply(lambda x: reserved_room_type_dict.get(x))\n",
    "\n",
    "#Converting text values in AssignedRoomType column to numeric values\n",
    "df['AssignedRoomType'] = df['AssignedRoomType'].str.strip()\n",
    "assigned_room_type_dict = dict.fromkeys(df.AssignedRoomType.unique())\n",
    "assigned_room_type_dict = dict(zip(assigned_room_type_dict, range(0,len(df.AssignedRoomType.unique()))))\n",
    "df[\"AssignedRoomType\"] = df[\"AssignedRoomType\"].apply(lambda x: assigned_room_type_dict.get(x))\n",
    "\n",
    "#Converting text values in DepositType column to numeric values\n",
    "df['DepositType'] = df['DepositType'].str.strip()\n",
    "deposit_type_dict = dict.fromkeys(df.DepositType.unique())\n",
    "deposit_type_dict = dict(zip(deposit_type_dict, range(0,len(df.DepositType.unique()))))\n",
    "df[\"DepositType\"] = df[\"DepositType\"].apply(lambda x: deposit_type_dict.get(x))\n",
    "\n",
    "#Replacing '       NULL' value in Agent column to 0 \n",
    "df['Agent'] = df.Agent.apply(lambda a: 0 if a == '       NULL' else a)\n",
    "#Converting Agent column to integer\n",
    "df['Agent'] = df['Agent'].astype(int)\n",
    "#Replacing '       NULL' value in Company column to 0\n",
    "df['Company'] = df.Company.apply(lambda c: 0 if c == '       NULL' else c)\n",
    "#Converting Company column to integer\n",
    "df['Company'] = df['Company'].astype(int)\n",
    "\n",
    "#Converting text values in CustomerType column to numeric values\n",
    "customer_type_dict = dict.fromkeys(df.CustomerType.unique())\n",
    "customer_type_dict = dict(zip(customer_type_dict, range(0,len(df.CustomerType.unique()))))\n",
    "df[\"CustomerType\"] = df[\"CustomerType\"].apply(lambda x: customer_type_dict.get(x))\n",
    "\n",
    "#Converting text values in ReservationStatus column to numeric values\n",
    "reservation_status_dict = dict.fromkeys(df.ReservationStatus.unique())\n",
    "reservation_status_dict = dict(zip(reservation_status_dict, range(0,len(df.ReservationStatus.unique()))))\n",
    "df[\"ReservationStatus\"] = df[\"ReservationStatus\"].apply(lambda x: reservation_status_dict.get(x))\n",
    "\n",
    "#Dropping ReservationStatus column\n",
    "df.drop('ReservationStatus', axis=1, inplace=True)\n",
    "\n",
    "#Dropping ReservationStatusDate column \n",
    "df.drop('ReservationStatusDate', axis=1, inplace=True)"
   ]
  },
  {
   "cell_type": "code",
   "execution_count": 45,
   "metadata": {},
   "outputs": [
    {
     "data": {
      "text/html": [
       "<div>\n",
       "<style scoped>\n",
       "    .dataframe tbody tr th:only-of-type {\n",
       "        vertical-align: middle;\n",
       "    }\n",
       "\n",
       "    .dataframe tbody tr th {\n",
       "        vertical-align: top;\n",
       "    }\n",
       "\n",
       "    .dataframe thead th {\n",
       "        text-align: right;\n",
       "    }\n",
       "</style>\n",
       "<table border=\"1\" class=\"dataframe\">\n",
       "  <thead>\n",
       "    <tr style=\"text-align: right;\">\n",
       "      <th></th>\n",
       "      <th>IsCanceled</th>\n",
       "      <th>LeadTime</th>\n",
       "      <th>ArrivalDateMonth</th>\n",
       "      <th>StaysInWeekendNights</th>\n",
       "      <th>StaysInWeekNights</th>\n",
       "      <th>Adults</th>\n",
       "      <th>Children</th>\n",
       "      <th>Babies</th>\n",
       "      <th>Meal</th>\n",
       "      <th>Country</th>\n",
       "      <th>MarketSegment</th>\n",
       "      <th>DistributionChannel</th>\n",
       "      <th>IsRepeatedGuest</th>\n",
       "      <th>PreviousCancellations</th>\n",
       "      <th>PreviousBookingsNotCanceled</th>\n",
       "      <th>ReservedRoomType</th>\n",
       "      <th>AssignedRoomType</th>\n",
       "      <th>BookingChanges</th>\n",
       "      <th>DepositType</th>\n",
       "      <th>Agent</th>\n",
       "      <th>Company</th>\n",
       "      <th>DaysInWaitingList</th>\n",
       "      <th>CustomerType</th>\n",
       "      <th>ADR</th>\n",
       "      <th>RequiredCarParkingSpaces</th>\n",
       "      <th>TotalOfSpecialRequests</th>\n",
       "    </tr>\n",
       "  </thead>\n",
       "  <tbody>\n",
       "    <tr>\n",
       "      <th>0</th>\n",
       "      <td>0</td>\n",
       "      <td>6</td>\n",
       "      <td>7</td>\n",
       "      <td>0</td>\n",
       "      <td>2</td>\n",
       "      <td>1</td>\n",
       "      <td>0</td>\n",
       "      <td>0</td>\n",
       "      <td>2</td>\n",
       "      <td>0</td>\n",
       "      <td>0</td>\n",
       "      <td>0</td>\n",
       "      <td>0</td>\n",
       "      <td>0</td>\n",
       "      <td>0</td>\n",
       "      <td>0</td>\n",
       "      <td>0</td>\n",
       "      <td>0</td>\n",
       "      <td>0</td>\n",
       "      <td>6</td>\n",
       "      <td>0</td>\n",
       "      <td>0</td>\n",
       "      <td>0</td>\n",
       "      <td>0.0</td>\n",
       "      <td>0</td>\n",
       "      <td>0</td>\n",
       "    </tr>\n",
       "    <tr>\n",
       "      <th>1</th>\n",
       "      <td>1</td>\n",
       "      <td>88</td>\n",
       "      <td>7</td>\n",
       "      <td>0</td>\n",
       "      <td>4</td>\n",
       "      <td>2</td>\n",
       "      <td>0</td>\n",
       "      <td>0</td>\n",
       "      <td>1</td>\n",
       "      <td>0</td>\n",
       "      <td>1</td>\n",
       "      <td>0</td>\n",
       "      <td>0</td>\n",
       "      <td>0</td>\n",
       "      <td>0</td>\n",
       "      <td>0</td>\n",
       "      <td>0</td>\n",
       "      <td>0</td>\n",
       "      <td>0</td>\n",
       "      <td>9</td>\n",
       "      <td>0</td>\n",
       "      <td>0</td>\n",
       "      <td>0</td>\n",
       "      <td>76.5</td>\n",
       "      <td>0</td>\n",
       "      <td>1</td>\n",
       "    </tr>\n",
       "    <tr>\n",
       "      <th>2</th>\n",
       "      <td>1</td>\n",
       "      <td>65</td>\n",
       "      <td>7</td>\n",
       "      <td>0</td>\n",
       "      <td>4</td>\n",
       "      <td>1</td>\n",
       "      <td>0</td>\n",
       "      <td>0</td>\n",
       "      <td>1</td>\n",
       "      <td>0</td>\n",
       "      <td>1</td>\n",
       "      <td>0</td>\n",
       "      <td>0</td>\n",
       "      <td>0</td>\n",
       "      <td>0</td>\n",
       "      <td>0</td>\n",
       "      <td>0</td>\n",
       "      <td>0</td>\n",
       "      <td>0</td>\n",
       "      <td>9</td>\n",
       "      <td>0</td>\n",
       "      <td>0</td>\n",
       "      <td>0</td>\n",
       "      <td>68.0</td>\n",
       "      <td>0</td>\n",
       "      <td>1</td>\n",
       "    </tr>\n",
       "    <tr>\n",
       "      <th>3</th>\n",
       "      <td>1</td>\n",
       "      <td>92</td>\n",
       "      <td>7</td>\n",
       "      <td>2</td>\n",
       "      <td>4</td>\n",
       "      <td>2</td>\n",
       "      <td>0</td>\n",
       "      <td>0</td>\n",
       "      <td>1</td>\n",
       "      <td>0</td>\n",
       "      <td>1</td>\n",
       "      <td>0</td>\n",
       "      <td>0</td>\n",
       "      <td>0</td>\n",
       "      <td>0</td>\n",
       "      <td>0</td>\n",
       "      <td>0</td>\n",
       "      <td>0</td>\n",
       "      <td>0</td>\n",
       "      <td>9</td>\n",
       "      <td>0</td>\n",
       "      <td>0</td>\n",
       "      <td>0</td>\n",
       "      <td>76.5</td>\n",
       "      <td>0</td>\n",
       "      <td>2</td>\n",
       "    </tr>\n",
       "    <tr>\n",
       "      <th>4</th>\n",
       "      <td>1</td>\n",
       "      <td>100</td>\n",
       "      <td>7</td>\n",
       "      <td>0</td>\n",
       "      <td>2</td>\n",
       "      <td>2</td>\n",
       "      <td>0</td>\n",
       "      <td>0</td>\n",
       "      <td>1</td>\n",
       "      <td>0</td>\n",
       "      <td>1</td>\n",
       "      <td>0</td>\n",
       "      <td>0</td>\n",
       "      <td>0</td>\n",
       "      <td>0</td>\n",
       "      <td>0</td>\n",
       "      <td>0</td>\n",
       "      <td>0</td>\n",
       "      <td>0</td>\n",
       "      <td>9</td>\n",
       "      <td>0</td>\n",
       "      <td>0</td>\n",
       "      <td>0</td>\n",
       "      <td>76.5</td>\n",
       "      <td>0</td>\n",
       "      <td>1</td>\n",
       "    </tr>\n",
       "  </tbody>\n",
       "</table>\n",
       "</div>"
      ],
      "text/plain": [
       "   IsCanceled  LeadTime  ArrivalDateMonth  StaysInWeekendNights  \\\n",
       "0           0         6                 7                     0   \n",
       "1           1        88                 7                     0   \n",
       "2           1        65                 7                     0   \n",
       "3           1        92                 7                     2   \n",
       "4           1       100                 7                     0   \n",
       "\n",
       "   StaysInWeekNights  Adults  Children  Babies Meal  Country  MarketSegment  \\\n",
       "0                  2       1         0       0    2        0              0   \n",
       "1                  4       2         0       0    1        0              1   \n",
       "2                  4       1         0       0    1        0              1   \n",
       "3                  4       2         0       0    1        0              1   \n",
       "4                  2       2         0       0    1        0              1   \n",
       "\n",
       "   DistributionChannel  IsRepeatedGuest  PreviousCancellations  \\\n",
       "0                    0                0                      0   \n",
       "1                    0                0                      0   \n",
       "2                    0                0                      0   \n",
       "3                    0                0                      0   \n",
       "4                    0                0                      0   \n",
       "\n",
       "   PreviousBookingsNotCanceled  ReservedRoomType  AssignedRoomType  \\\n",
       "0                            0                 0                 0   \n",
       "1                            0                 0                 0   \n",
       "2                            0                 0                 0   \n",
       "3                            0                 0                 0   \n",
       "4                            0                 0                 0   \n",
       "\n",
       "   BookingChanges  DepositType  Agent  Company  DaysInWaitingList  \\\n",
       "0               0            0      6        0                  0   \n",
       "1               0            0      9        0                  0   \n",
       "2               0            0      9        0                  0   \n",
       "3               0            0      9        0                  0   \n",
       "4               0            0      9        0                  0   \n",
       "\n",
       "   CustomerType   ADR  RequiredCarParkingSpaces  TotalOfSpecialRequests  \n",
       "0             0   0.0                         0                       0  \n",
       "1             0  76.5                         0                       1  \n",
       "2             0  68.0                         0                       1  \n",
       "3             0  76.5                         0                       2  \n",
       "4             0  76.5                         0                       1  "
      ]
     },
     "execution_count": 45,
     "metadata": {},
     "output_type": "execute_result"
    }
   ],
   "source": [
    "pd.set_option('display.max_columns', None)\n",
    "df.head()"
   ]
  },
  {
   "cell_type": "markdown",
   "metadata": {},
   "source": [
    "Splitting the dataset into input features (X) and output (y)"
   ]
  },
  {
   "cell_type": "code",
   "execution_count": 46,
   "metadata": {
    "id": "sXTN5CCXnd7G"
   },
   "outputs": [],
   "source": [
    "X = df.drop('IsCanceled', axis=1)\n",
    "y = df['IsCanceled']"
   ]
  },
  {
   "cell_type": "markdown",
   "metadata": {},
   "source": [
    "Normalizing the input features"
   ]
  },
  {
   "cell_type": "code",
   "execution_count": 47,
   "metadata": {
    "id": "faxxaUfjngFv"
   },
   "outputs": [],
   "source": [
    "scaler = StandardScaler() \n",
    "X = scaler.fit_transform(X) "
   ]
  },
  {
   "cell_type": "markdown",
   "metadata": {},
   "source": [
    "Splitting dataset into training and testing sets"
   ]
  },
  {
   "cell_type": "code",
   "execution_count": 48,
   "metadata": {
    "id": "k-1KuJ-KnimM"
   },
   "outputs": [],
   "source": [
    "X_train, X_test, y_train, y_test = train_test_split(X, y, test_size=0.2, random_state=42) "
   ]
  },
  {
   "cell_type": "code",
   "execution_count": 49,
   "metadata": {
    "colab": {
     "base_uri": "https://localhost:8080/"
    },
    "id": "VEyOW83aeASf",
    "outputId": "8ce6570d-5ebc-4eb4-fbf4-fbc1ee12b53c"
   },
   "outputs": [
    {
     "name": "stdout",
     "output_type": "stream",
     "text": [
      "(63464, 25)\n",
      "(63464,)\n",
      "(15866, 25)\n",
      "(15866,)\n"
     ]
    }
   ],
   "source": [
    "print(X_train.shape)\n",
    "print(y_train.shape)\n",
    "print(X_test.shape)\n",
    "print(y_test.shape)"
   ]
  },
  {
   "cell_type": "markdown",
   "metadata": {
    "id": "dKq8hQ07P9t4"
   },
   "source": [
    "Defining model architecture"
   ]
  },
  {
   "cell_type": "code",
   "execution_count": 50,
   "metadata": {
    "id": "2an8RcxonmnG"
   },
   "outputs": [],
   "source": [
    "model = Sequential() \n",
    "model.add(Dense(64, input_dim=X_train.shape[1], activation='relu')) \n",
    "model.add(Dense(32, activation='relu'))\n",
    "model.add(Dense(1, activation='sigmoid'))"
   ]
  },
  {
   "cell_type": "markdown",
   "metadata": {
    "id": "MFS89WrRQBC8"
   },
   "source": [
    "Compiling model"
   ]
  },
  {
   "cell_type": "code",
   "execution_count": 51,
   "metadata": {
    "id": "4yZwOvxmnpvE"
   },
   "outputs": [],
   "source": [
    "model.compile(loss='binary_crossentropy', optimizer='adam', metrics=['accuracy'])"
   ]
  },
  {
   "cell_type": "markdown",
   "metadata": {
    "id": "T9nmHW8gQf6u"
   },
   "source": [
    "Fitting model on training data"
   ]
  },
  {
   "cell_type": "code",
   "execution_count": 52,
   "metadata": {
    "colab": {
     "base_uri": "https://localhost:8080/"
    },
    "id": "fIboIzWPnwCR",
    "outputId": "fee34cdf-2a1d-4bf3-c6f8-09815581af98"
   },
   "outputs": [
    {
     "name": "stdout",
     "output_type": "stream",
     "text": [
      "Epoch 1/30\n",
      "1984/1984 [==============================] - 4s 2ms/step - loss: 0.4083 - accuracy: 0.8084 - val_loss: 0.3731 - val_accuracy: 0.8280\n",
      "Epoch 2/30\n",
      "1984/1984 [==============================] - 3s 2ms/step - loss: 0.3652 - accuracy: 0.8285 - val_loss: 0.3601 - val_accuracy: 0.8276\n",
      "Epoch 3/30\n",
      "1984/1984 [==============================] - 3s 2ms/step - loss: 0.3511 - accuracy: 0.8350 - val_loss: 0.3513 - val_accuracy: 0.8340\n",
      "Epoch 4/30\n",
      "1984/1984 [==============================] - 3s 2ms/step - loss: 0.3431 - accuracy: 0.8378 - val_loss: 0.3519 - val_accuracy: 0.8375\n",
      "Epoch 5/30\n",
      "1984/1984 [==============================] - 3s 2ms/step - loss: 0.3380 - accuracy: 0.8409 - val_loss: 0.3411 - val_accuracy: 0.8426\n",
      "Epoch 6/30\n",
      "1984/1984 [==============================] - 4s 2ms/step - loss: 0.3330 - accuracy: 0.8423 - val_loss: 0.3378 - val_accuracy: 0.8405\n",
      "Epoch 7/30\n",
      "1984/1984 [==============================] - 4s 2ms/step - loss: 0.3291 - accuracy: 0.8458 - val_loss: 0.3388 - val_accuracy: 0.8422\n",
      "Epoch 8/30\n",
      "1984/1984 [==============================] - 4s 2ms/step - loss: 0.3250 - accuracy: 0.8469 - val_loss: 0.3369 - val_accuracy: 0.8429\n",
      "Epoch 9/30\n",
      "1984/1984 [==============================] - 4s 2ms/step - loss: 0.3221 - accuracy: 0.8469 - val_loss: 0.3363 - val_accuracy: 0.8462\n",
      "Epoch 10/30\n",
      "1984/1984 [==============================] - 4s 2ms/step - loss: 0.3196 - accuracy: 0.8491 - val_loss: 0.3311 - val_accuracy: 0.8484\n",
      "Epoch 11/30\n",
      "1984/1984 [==============================] - 3s 2ms/step - loss: 0.3182 - accuracy: 0.8499 - val_loss: 0.3265 - val_accuracy: 0.8507\n",
      "Epoch 12/30\n",
      "1984/1984 [==============================] - 4s 2ms/step - loss: 0.3155 - accuracy: 0.8520 - val_loss: 0.3276 - val_accuracy: 0.8491\n",
      "Epoch 13/30\n",
      "1984/1984 [==============================] - 3s 2ms/step - loss: 0.3137 - accuracy: 0.8520 - val_loss: 0.3372 - val_accuracy: 0.8442\n",
      "Epoch 14/30\n",
      "1984/1984 [==============================] - 4s 2ms/step - loss: 0.3112 - accuracy: 0.8547 - val_loss: 0.3261 - val_accuracy: 0.8521\n",
      "Epoch 15/30\n",
      "1984/1984 [==============================] - 4s 2ms/step - loss: 0.3098 - accuracy: 0.8554 - val_loss: 0.3315 - val_accuracy: 0.8482\n",
      "Epoch 16/30\n",
      "1984/1984 [==============================] - 4s 2ms/step - loss: 0.3087 - accuracy: 0.8549 - val_loss: 0.3279 - val_accuracy: 0.8483\n",
      "Epoch 17/30\n",
      "1984/1984 [==============================] - 4s 2ms/step - loss: 0.3063 - accuracy: 0.8567 - val_loss: 0.3228 - val_accuracy: 0.8517\n",
      "Epoch 18/30\n",
      "1984/1984 [==============================] - 4s 2ms/step - loss: 0.3054 - accuracy: 0.8574 - val_loss: 0.3237 - val_accuracy: 0.8516\n",
      "Epoch 19/30\n",
      "1984/1984 [==============================] - 4s 2ms/step - loss: 0.3046 - accuracy: 0.8578 - val_loss: 0.3262 - val_accuracy: 0.8504\n",
      "Epoch 20/30\n",
      "1984/1984 [==============================] - 4s 2ms/step - loss: 0.3032 - accuracy: 0.8589 - val_loss: 0.3224 - val_accuracy: 0.8536\n",
      "Epoch 21/30\n",
      "1984/1984 [==============================] - 4s 2ms/step - loss: 0.3012 - accuracy: 0.8609 - val_loss: 0.3241 - val_accuracy: 0.8506\n",
      "Epoch 22/30\n",
      "1984/1984 [==============================] - 4s 2ms/step - loss: 0.3010 - accuracy: 0.8598 - val_loss: 0.3224 - val_accuracy: 0.8519\n",
      "Epoch 23/30\n",
      "1984/1984 [==============================] - 4s 2ms/step - loss: 0.2990 - accuracy: 0.8606 - val_loss: 0.3242 - val_accuracy: 0.8510\n",
      "Epoch 24/30\n",
      "1984/1984 [==============================] - 4s 2ms/step - loss: 0.2989 - accuracy: 0.8599 - val_loss: 0.3268 - val_accuracy: 0.8503\n",
      "Epoch 25/30\n",
      "1984/1984 [==============================] - 5s 2ms/step - loss: 0.2971 - accuracy: 0.8616 - val_loss: 0.3246 - val_accuracy: 0.8511\n",
      "Epoch 26/30\n",
      "1984/1984 [==============================] - 4s 2ms/step - loss: 0.2972 - accuracy: 0.8609 - val_loss: 0.3306 - val_accuracy: 0.8460\n",
      "Epoch 27/30\n",
      "1984/1984 [==============================] - 4s 2ms/step - loss: 0.2958 - accuracy: 0.8618 - val_loss: 0.3284 - val_accuracy: 0.8499\n",
      "Epoch 28/30\n",
      "1984/1984 [==============================] - 4s 2ms/step - loss: 0.2953 - accuracy: 0.8614 - val_loss: 0.3240 - val_accuracy: 0.8529\n",
      "Epoch 29/30\n",
      "1984/1984 [==============================] - 4s 2ms/step - loss: 0.2947 - accuracy: 0.8626 - val_loss: 0.3192 - val_accuracy: 0.8553\n",
      "Epoch 30/30\n",
      "1984/1984 [==============================] - 4s 2ms/step - loss: 0.2929 - accuracy: 0.8633 - val_loss: 0.3295 - val_accuracy: 0.8496\n"
     ]
    }
   ],
   "source": [
    "history = model.fit(X_train, y_train, epochs=30, batch_size=32, validation_data=(X_test, y_test))"
   ]
  },
  {
   "cell_type": "markdown",
   "metadata": {
    "id": "S2FdZ226Qp7h"
   },
   "source": [
    "Evaluating model on test data"
   ]
  },
  {
   "cell_type": "code",
   "execution_count": 53,
   "metadata": {
    "colab": {
     "base_uri": "https://localhost:8080/"
    },
    "id": "qn04Pg-JQq5T",
    "outputId": "a5b55c46-d506-4232-d0f0-f599b8ef5894"
   },
   "outputs": [
    {
     "name": "stdout",
     "output_type": "stream",
     "text": [
      "496/496 [==============================] - 1s 1ms/step - loss: 0.3295 - accuracy: 0.8496\n"
     ]
    }
   ],
   "source": [
    "score = model.evaluate(X_test, y_test)"
   ]
  },
  {
   "cell_type": "code",
   "execution_count": 54,
   "metadata": {
    "colab": {
     "base_uri": "https://localhost:8080/"
    },
    "id": "uax0S3s-jpZo",
    "outputId": "45462d5c-e585-4ecd-a6c0-9ff37c14ccf6"
   },
   "outputs": [
    {
     "data": {
      "text/plain": [
       "[0.3295145630836487, 0.8495525121688843]"
      ]
     },
     "execution_count": 54,
     "metadata": {},
     "output_type": "execute_result"
    }
   ],
   "source": [
    "score"
   ]
  },
  {
   "cell_type": "markdown",
   "metadata": {
    "id": "Qjw5Adk2Qzrd"
   },
   "source": [
    "Visualizing Accuracy and Loss"
   ]
  },
  {
   "cell_type": "code",
   "execution_count": 55,
   "metadata": {
    "id": "l2H4pOn_crVk"
   },
   "outputs": [],
   "source": [
    "import matplotlib.pyplot as plt"
   ]
  },
  {
   "cell_type": "markdown",
   "metadata": {},
   "source": [
    "Plotting the training and validation accuracy over epochs"
   ]
  },
  {
   "cell_type": "code",
   "execution_count": 56,
   "metadata": {
    "colab": {
     "base_uri": "https://localhost:8080/",
     "height": 295
    },
    "id": "zFG-6Ypscr7q",
    "outputId": "67eac0a8-ede6-4fd2-ca9a-4e07c32a2459"
   },
   "outputs": [
    {
     "data": {
      "image/png": "[encoded data removed]",
      "text/plain": [
       "<Figure size 640x480 with 1 Axes>"
      ]
     },
     "metadata": {},
     "output_type": "display_data"
    }
   ],
   "source": [
    "plt.plot(history.history['accuracy']) \n",
    "plt.plot(history.history['val_accuracy'])\n",
    "plt.title('Model Accuracy')\n",
    "plt.ylabel('Accuracy')\n",
    "plt.xlabel('Epoch')\n",
    "plt.legend(['Train', 'Validation'], loc='upper left')\n",
    "plt.show()"
   ]
  },
  {
   "cell_type": "markdown",
   "metadata": {},
   "source": [
    "Plotting the training and validation loss over epochs"
   ]
  },
  {
   "cell_type": "code",
   "execution_count": 57,
   "metadata": {
    "colab": {
     "base_uri": "https://localhost:8080/",
     "height": 295
    },
    "id": "Ne5g4aG_cvWX",
    "outputId": "5f2c12e3-bb85-46ea-d7ea-b39e679e8f9c"
   },
   "outputs": [
    {
     "data": {
      "image/png": "[encoded data removed]",
      "text/plain": [
       "<Figure size 640x480 with 1 Axes>"
      ]
     },
     "metadata": {},
     "output_type": "display_data"
    }
   ],
   "source": [
    "plt.plot(history.history['loss'])\n",
    "plt.plot(history.history['val_loss'])\n",
    "plt.title('Model Loss')\n",
    "plt.ylabel('Loss')\n",
    "plt.xlabel('Epoch')\n",
    "plt.legend(['Train', 'Validation'], loc='upper left')\n",
    "plt.show()"
   ]
  },
  {
   "cell_type": "code",
   "execution_count": null,
   "metadata": {},
   "outputs": [],
   "source": []
  }
 ],
 "metadata": {
  "colab": {
   "provenance": []
  },
  "kernelspec": {
   "display_name": "Python 3 (ipykernel)",
   "language": "python",
   "name": "python3"
  },
  "language_info": {
   "codemirror_mode": {
    "name": "ipython",
    "version": 3
   },
   "file_extension": ".py",
   "mimetype": "text/x-python",
   "name": "python",
   "nbconvert_exporter": "python",
   "pygments_lexer": "ipython3",
   "version": "3.10.9"
  }
 },
 "nbformat": 4,
 "nbformat_minor": 1
}
