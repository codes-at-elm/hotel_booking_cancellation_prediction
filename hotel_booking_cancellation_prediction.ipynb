{
 "cells": [
  {
   "cell_type": "markdown",
   "metadata": {
    "id": "wISsMYJfPqI_"
   },
   "source": [
    "Importing libraries and modules"
   ]
  },
  {
   "cell_type": "code",
   "execution_count": 251,
   "metadata": {
    "id": "2aKBs1BdnVHl"
   },
   "outputs": [],
   "source": [
    "import pandas as pd\n",
    "import tensorflow as tf\n",
    "from keras.models import Sequential, load_model \n",
    "from keras.layers import Dense \n",
    "from sklearn.model_selection import train_test_split \n",
    "from sklearn.preprocessing import StandardScaler "
   ]
  },
  {
   "cell_type": "markdown",
   "metadata": {
    "id": "v4UIXTkOPs2D"
   },
   "source": [
    "Importing dataset"
   ]
  },
  {
   "cell_type": "code",
   "execution_count": 252,
   "metadata": {
    "id": "4ydvP2TlndQq"
   },
   "outputs": [],
   "source": [
    "df = pd.read_csv('H2.csv')"
   ]
  },
  {
   "cell_type": "markdown",
   "metadata": {
    "id": "fkQjiQytTx5h"
   },
   "source": [
    "Inspecting the dataset"
   ]
  },
  {
   "cell_type": "code",
   "execution_count": 253,
   "metadata": {},
   "outputs": [
    {
     "name": "stdout",
     "output_type": "stream",
     "text": [
      "<class 'pandas.core.frame.DataFrame'>\n",
      "RangeIndex: 79330 entries, 0 to 79329\n",
      "Data columns (total 31 columns):\n",
      " #   Column                       Non-Null Count  Dtype  \n",
      "---  ------                       --------------  -----  \n",
      " 0   IsCanceled                   79330 non-null  int64  \n",
      " 1   LeadTime                     79330 non-null  int64  \n",
      " 2   ArrivalDateYear              79330 non-null  int64  \n",
      " 3   ArrivalDateMonth             79330 non-null  object \n",
      " 4   ArrivalDateWeekNumber        79330 non-null  int64  \n",
      " 5   ArrivalDateDayOfMonth        79330 non-null  int64  \n",
      " 6   StaysInWeekendNights         79330 non-null  int64  \n",
      " 7   StaysInWeekNights            79330 non-null  int64  \n",
      " 8   Adults                       79330 non-null  int64  \n",
      " 9   Children                     79326 non-null  float64\n",
      " 10  Babies                       79330 non-null  int64  \n",
      " 11  Meal                         79330 non-null  object \n",
      " 12  Country                      79306 non-null  object \n",
      " 13  MarketSegment                79330 non-null  object \n",
      " 14  DistributionChannel          79330 non-null  object \n",
      " 15  IsRepeatedGuest              79330 non-null  int64  \n",
      " 16  PreviousCancellations        79330 non-null  int64  \n",
      " 17  PreviousBookingsNotCanceled  79330 non-null  int64  \n",
      " 18  ReservedRoomType             79330 non-null  object \n",
      " 19  AssignedRoomType             79330 non-null  object \n",
      " 20  BookingChanges               79330 non-null  int64  \n",
      " 21  DepositType                  79330 non-null  object \n",
      " 22  Agent                        79330 non-null  object \n",
      " 23  Company                      79330 non-null  object \n",
      " 24  DaysInWaitingList            79330 non-null  int64  \n",
      " 25  CustomerType                 79330 non-null  object \n",
      " 26  ADR                          79330 non-null  float64\n",
      " 27  RequiredCarParkingSpaces     79330 non-null  int64  \n",
      " 28  TotalOfSpecialRequests       79330 non-null  int64  \n",
      " 29  ReservationStatus            79330 non-null  object \n",
      " 30  ReservationStatusDate        79330 non-null  object \n",
      "dtypes: float64(2), int64(16), object(13)\n",
      "memory usage: 18.8+ MB\n"
     ]
    }
   ],
   "source": [
    "df.info()"
   ]
  },
  {
   "cell_type": "code",
   "execution_count": 254,
   "metadata": {},
   "outputs": [
    {
     "data": {
      "text/html": [
       "<div>\n",
       "<style scoped>\n",
       "    .dataframe tbody tr th:only-of-type {\n",
       "        vertical-align: middle;\n",
       "    }\n",
       "\n",
       "    .dataframe tbody tr th {\n",
       "        vertical-align: top;\n",
       "    }\n",
       "\n",
       "    .dataframe thead th {\n",
       "        text-align: right;\n",
       "    }\n",
       "</style>\n",
       "<table border=\"1\" class=\"dataframe\">\n",
       "  <thead>\n",
       "    <tr style=\"text-align: right;\">\n",
       "      <th></th>\n",
       "      <th>IsCanceled</th>\n",
       "      <th>LeadTime</th>\n",
       "      <th>ArrivalDateYear</th>\n",
       "      <th>ArrivalDateWeekNumber</th>\n",
       "      <th>ArrivalDateDayOfMonth</th>\n",
       "      <th>StaysInWeekendNights</th>\n",
       "      <th>StaysInWeekNights</th>\n",
       "      <th>Adults</th>\n",
       "      <th>Children</th>\n",
       "      <th>Babies</th>\n",
       "      <th>IsRepeatedGuest</th>\n",
       "      <th>PreviousCancellations</th>\n",
       "      <th>PreviousBookingsNotCanceled</th>\n",
       "      <th>BookingChanges</th>\n",
       "      <th>DaysInWaitingList</th>\n",
       "      <th>ADR</th>\n",
       "      <th>RequiredCarParkingSpaces</th>\n",
       "      <th>TotalOfSpecialRequests</th>\n",
       "    </tr>\n",
       "  </thead>\n",
       "  <tbody>\n",
       "    <tr>\n",
       "      <th>count</th>\n",
       "      <td>79330.000000</td>\n",
       "      <td>79330.000000</td>\n",
       "      <td>79330.000000</td>\n",
       "      <td>79330.000000</td>\n",
       "      <td>79330.000000</td>\n",
       "      <td>79330.000000</td>\n",
       "      <td>79330.000000</td>\n",
       "      <td>79330.000000</td>\n",
       "      <td>79326.000000</td>\n",
       "      <td>79330.000000</td>\n",
       "      <td>79330.000000</td>\n",
       "      <td>79330.000000</td>\n",
       "      <td>79330.000000</td>\n",
       "      <td>79330.000000</td>\n",
       "      <td>79330.000000</td>\n",
       "      <td>79330.000000</td>\n",
       "      <td>79330.000000</td>\n",
       "      <td>79330.000000</td>\n",
       "    </tr>\n",
       "    <tr>\n",
       "      <th>mean</th>\n",
       "      <td>0.417270</td>\n",
       "      <td>109.735724</td>\n",
       "      <td>2016.174285</td>\n",
       "      <td>27.177449</td>\n",
       "      <td>15.786625</td>\n",
       "      <td>0.795185</td>\n",
       "      <td>2.182957</td>\n",
       "      <td>1.850977</td>\n",
       "      <td>0.091370</td>\n",
       "      <td>0.004941</td>\n",
       "      <td>0.025615</td>\n",
       "      <td>0.079743</td>\n",
       "      <td>0.132371</td>\n",
       "      <td>0.187369</td>\n",
       "      <td>3.226774</td>\n",
       "      <td>105.304465</td>\n",
       "      <td>0.024367</td>\n",
       "      <td>0.546918</td>\n",
       "    </tr>\n",
       "    <tr>\n",
       "      <th>std</th>\n",
       "      <td>0.493111</td>\n",
       "      <td>110.948526</td>\n",
       "      <td>0.699181</td>\n",
       "      <td>13.398523</td>\n",
       "      <td>8.728451</td>\n",
       "      <td>0.885026</td>\n",
       "      <td>1.456416</td>\n",
       "      <td>0.509292</td>\n",
       "      <td>0.372177</td>\n",
       "      <td>0.084323</td>\n",
       "      <td>0.157983</td>\n",
       "      <td>0.415472</td>\n",
       "      <td>1.693411</td>\n",
       "      <td>0.608620</td>\n",
       "      <td>20.870890</td>\n",
       "      <td>43.602954</td>\n",
       "      <td>0.154919</td>\n",
       "      <td>0.780776</td>\n",
       "    </tr>\n",
       "    <tr>\n",
       "      <th>min</th>\n",
       "      <td>0.000000</td>\n",
       "      <td>0.000000</td>\n",
       "      <td>2015.000000</td>\n",
       "      <td>1.000000</td>\n",
       "      <td>1.000000</td>\n",
       "      <td>0.000000</td>\n",
       "      <td>0.000000</td>\n",
       "      <td>0.000000</td>\n",
       "      <td>0.000000</td>\n",
       "      <td>0.000000</td>\n",
       "      <td>0.000000</td>\n",
       "      <td>0.000000</td>\n",
       "      <td>0.000000</td>\n",
       "      <td>0.000000</td>\n",
       "      <td>0.000000</td>\n",
       "      <td>0.000000</td>\n",
       "      <td>0.000000</td>\n",
       "      <td>0.000000</td>\n",
       "    </tr>\n",
       "    <tr>\n",
       "      <th>25%</th>\n",
       "      <td>0.000000</td>\n",
       "      <td>23.000000</td>\n",
       "      <td>2016.000000</td>\n",
       "      <td>17.000000</td>\n",
       "      <td>8.000000</td>\n",
       "      <td>0.000000</td>\n",
       "      <td>1.000000</td>\n",
       "      <td>2.000000</td>\n",
       "      <td>0.000000</td>\n",
       "      <td>0.000000</td>\n",
       "      <td>0.000000</td>\n",
       "      <td>0.000000</td>\n",
       "      <td>0.000000</td>\n",
       "      <td>0.000000</td>\n",
       "      <td>0.000000</td>\n",
       "      <td>79.200000</td>\n",
       "      <td>0.000000</td>\n",
       "      <td>0.000000</td>\n",
       "    </tr>\n",
       "    <tr>\n",
       "      <th>50%</th>\n",
       "      <td>0.000000</td>\n",
       "      <td>74.000000</td>\n",
       "      <td>2016.000000</td>\n",
       "      <td>27.000000</td>\n",
       "      <td>16.000000</td>\n",
       "      <td>1.000000</td>\n",
       "      <td>2.000000</td>\n",
       "      <td>2.000000</td>\n",
       "      <td>0.000000</td>\n",
       "      <td>0.000000</td>\n",
       "      <td>0.000000</td>\n",
       "      <td>0.000000</td>\n",
       "      <td>0.000000</td>\n",
       "      <td>0.000000</td>\n",
       "      <td>0.000000</td>\n",
       "      <td>99.900000</td>\n",
       "      <td>0.000000</td>\n",
       "      <td>0.000000</td>\n",
       "    </tr>\n",
       "    <tr>\n",
       "      <th>75%</th>\n",
       "      <td>1.000000</td>\n",
       "      <td>163.000000</td>\n",
       "      <td>2017.000000</td>\n",
       "      <td>38.000000</td>\n",
       "      <td>23.000000</td>\n",
       "      <td>2.000000</td>\n",
       "      <td>3.000000</td>\n",
       "      <td>2.000000</td>\n",
       "      <td>0.000000</td>\n",
       "      <td>0.000000</td>\n",
       "      <td>0.000000</td>\n",
       "      <td>0.000000</td>\n",
       "      <td>0.000000</td>\n",
       "      <td>0.000000</td>\n",
       "      <td>0.000000</td>\n",
       "      <td>126.000000</td>\n",
       "      <td>0.000000</td>\n",
       "      <td>1.000000</td>\n",
       "    </tr>\n",
       "    <tr>\n",
       "      <th>max</th>\n",
       "      <td>1.000000</td>\n",
       "      <td>629.000000</td>\n",
       "      <td>2017.000000</td>\n",
       "      <td>53.000000</td>\n",
       "      <td>31.000000</td>\n",
       "      <td>16.000000</td>\n",
       "      <td>41.000000</td>\n",
       "      <td>4.000000</td>\n",
       "      <td>3.000000</td>\n",
       "      <td>10.000000</td>\n",
       "      <td>1.000000</td>\n",
       "      <td>21.000000</td>\n",
       "      <td>72.000000</td>\n",
       "      <td>21.000000</td>\n",
       "      <td>391.000000</td>\n",
       "      <td>5400.000000</td>\n",
       "      <td>3.000000</td>\n",
       "      <td>5.000000</td>\n",
       "    </tr>\n",
       "  </tbody>\n",
       "</table>\n",
       "</div>"
      ],
      "text/plain": [
       "         IsCanceled      LeadTime  ArrivalDateYear  ArrivalDateWeekNumber  \\\n",
       "count  79330.000000  79330.000000     79330.000000           79330.000000   \n",
       "mean       0.417270    109.735724      2016.174285              27.177449   \n",
       "std        0.493111    110.948526         0.699181              13.398523   \n",
       "min        0.000000      0.000000      2015.000000               1.000000   \n",
       "25%        0.000000     23.000000      2016.000000              17.000000   \n",
       "50%        0.000000     74.000000      2016.000000              27.000000   \n",
       "75%        1.000000    163.000000      2017.000000              38.000000   \n",
       "max        1.000000    629.000000      2017.000000              53.000000   \n",
       "\n",
       "       ArrivalDateDayOfMonth  StaysInWeekendNights  StaysInWeekNights  \\\n",
       "count           79330.000000          79330.000000       79330.000000   \n",
       "mean               15.786625              0.795185           2.182957   \n",
       "std                 8.728451              0.885026           1.456416   \n",
       "min                 1.000000              0.000000           0.000000   \n",
       "25%                 8.000000              0.000000           1.000000   \n",
       "50%                16.000000              1.000000           2.000000   \n",
       "75%                23.000000              2.000000           3.000000   \n",
       "max                31.000000             16.000000          41.000000   \n",
       "\n",
       "             Adults      Children        Babies  IsRepeatedGuest  \\\n",
       "count  79330.000000  79326.000000  79330.000000     79330.000000   \n",
       "mean       1.850977      0.091370      0.004941         0.025615   \n",
       "std        0.509292      0.372177      0.084323         0.157983   \n",
       "min        0.000000      0.000000      0.000000         0.000000   \n",
       "25%        2.000000      0.000000      0.000000         0.000000   \n",
       "50%        2.000000      0.000000      0.000000         0.000000   \n",
       "75%        2.000000      0.000000      0.000000         0.000000   \n",
       "max        4.000000      3.000000     10.000000         1.000000   \n",
       "\n",
       "       PreviousCancellations  PreviousBookingsNotCanceled  BookingChanges  \\\n",
       "count           79330.000000                 79330.000000    79330.000000   \n",
       "mean                0.079743                     0.132371        0.187369   \n",
       "std                 0.415472                     1.693411        0.608620   \n",
       "min                 0.000000                     0.000000        0.000000   \n",
       "25%                 0.000000                     0.000000        0.000000   \n",
       "50%                 0.000000                     0.000000        0.000000   \n",
       "75%                 0.000000                     0.000000        0.000000   \n",
       "max                21.000000                    72.000000       21.000000   \n",
       "\n",
       "       DaysInWaitingList           ADR  RequiredCarParkingSpaces  \\\n",
       "count       79330.000000  79330.000000              79330.000000   \n",
       "mean            3.226774    105.304465                  0.024367   \n",
       "std            20.870890     43.602954                  0.154919   \n",
       "min             0.000000      0.000000                  0.000000   \n",
       "25%             0.000000     79.200000                  0.000000   \n",
       "50%             0.000000     99.900000                  0.000000   \n",
       "75%             0.000000    126.000000                  0.000000   \n",
       "max           391.000000   5400.000000                  3.000000   \n",
       "\n",
       "       TotalOfSpecialRequests  \n",
       "count            79330.000000  \n",
       "mean                 0.546918  \n",
       "std                  0.780776  \n",
       "min                  0.000000  \n",
       "25%                  0.000000  \n",
       "50%                  0.000000  \n",
       "75%                  1.000000  \n",
       "max                  5.000000  "
      ]
     },
     "execution_count": 254,
     "metadata": {},
     "output_type": "execute_result"
    }
   ],
   "source": [
    "df.describe()"
   ]
  },
  {
   "cell_type": "code",
   "execution_count": 255,
   "metadata": {
    "colab": {
     "base_uri": "https://localhost:8080/",
     "height": 206
    },
    "id": "T_pSB3-sWQKS",
    "outputId": "8be18d53-4354-4422-dfa5-bf54c7b87bfd"
   },
   "outputs": [
    {
     "name": "stdout",
     "output_type": "stream",
     "text": [
      "   IsCanceled  LeadTime  ArrivalDateYear ArrivalDateMonth  \\\n",
      "0           0         6             2015             July   \n",
      "1           1        88             2015             July   \n",
      "2           1        65             2015             July   \n",
      "3           1        92             2015             July   \n",
      "4           1       100             2015             July   \n",
      "\n",
      "   ArrivalDateWeekNumber  ArrivalDateDayOfMonth  StaysInWeekendNights  \\\n",
      "0                     27                      1                     0   \n",
      "1                     27                      1                     0   \n",
      "2                     27                      1                     0   \n",
      "3                     27                      1                     2   \n",
      "4                     27                      2                     0   \n",
      "\n",
      "   StaysInWeekNights  Adults  Children  ...      DepositType Agent  \\\n",
      "0                  2       1       0.0  ...  No Deposit          6   \n",
      "1                  4       2       0.0  ...  No Deposit          9   \n",
      "2                  4       1       0.0  ...  No Deposit          9   \n",
      "3                  4       2       0.0  ...  No Deposit          9   \n",
      "4                  2       2       0.0  ...  No Deposit          9   \n",
      "\n",
      "       Company DaysInWaitingList CustomerType   ADR  RequiredCarParkingSpaces  \\\n",
      "0         NULL                 0    Transient   0.0                         0   \n",
      "1         NULL                 0    Transient  76.5                         0   \n",
      "2         NULL                 0    Transient  68.0                         0   \n",
      "3         NULL                 0    Transient  76.5                         0   \n",
      "4         NULL                 0    Transient  76.5                         0   \n",
      "\n",
      "   TotalOfSpecialRequests ReservationStatus ReservationStatusDate  \n",
      "0                       0         Check-Out              7/3/2015  \n",
      "1                       1          Canceled              7/1/2015  \n",
      "2                       1          Canceled             4/30/2015  \n",
      "3                       2          Canceled             6/23/2015  \n",
      "4                       1          Canceled              4/2/2015  \n",
      "\n",
      "[5 rows x 31 columns]\n"
     ]
    }
   ],
   "source": [
    "#pd.set_option('display.max_columns', None)\n",
    "print(df.head())"
   ]
  },
  {
   "cell_type": "markdown",
   "metadata": {
    "id": "MFygGkTEP0WT"
   },
   "source": [
    "Preprocess input data"
   ]
  },
  {
   "cell_type": "code",
   "execution_count": 256,
   "metadata": {
    "id": "ZMZ_dmfFytNO"
   },
   "outputs": [],
   "source": [
    "#Dropping columns that does not have significance in predicting hotel booking cancellation\n",
    "df.drop('ArrivalDateYear', axis=1, inplace=True)\n",
    "df.drop('ArrivalDateWeekNumber', axis=1, inplace=True)\n",
    "df.drop('ArrivalDateDayOfMonth', axis=1, inplace=True)\n",
    "\n",
    "#Replacing na values in columns with 0\n",
    "#Stripping extra spaces in columns\n",
    "#Replacing '       NULL' value in columns to 0 \n",
    "#Encoding strings in columns as integer\n",
    "df['ArrivalDateMonth'] = pd.factorize(df['ArrivalDateMonth'])[0]\n",
    "df['Children'] = df['Children'].fillna(0)\n",
    "df['Children'] = pd.factorize(df['Children'])[0]\n",
    "df['Meal'] = df['Meal'].str.strip()\n",
    "df['Meal'] = pd.factorize(df['Meal'])[0]\n",
    "df['Country'] = pd.factorize(df['Country'])[0]\n",
    "df['MarketSegment'] = pd.factorize(df['MarketSegment'])[0]\n",
    "df['DistributionChannel'] = pd.factorize(df['DistributionChannel'])[0]\n",
    "df['ReservedRoomType'] = df['ReservedRoomType'].str.strip()\n",
    "df['ReservedRoomType'] = pd.factorize(df['ReservedRoomType'])[0]\n",
    "df['AssignedRoomType'] = df['AssignedRoomType'].str.strip()\n",
    "df['AssignedRoomType'] = pd.factorize(df['AssignedRoomType'])[0]\n",
    "df['DepositType'] = df['DepositType'].str.strip()\n",
    "df['DepositType'] = pd.factorize(df['DepositType'])[0]\n",
    "df['Agent'] = df.Agent.apply(lambda a: 0 if a == '       NULL' else a)\n",
    "df['Agent'] = pd.factorize(df['Agent'])[0]\n",
    "df['Company'] = df.Company.apply(lambda c: 0 if c == '       NULL' else c)\n",
    "df['Company'] = pd.factorize(df['Company'])[0]\n",
    "df['CustomerType'] = pd.factorize(df['CustomerType'])[0]\n",
    "df['ReservationStatus'] = pd.factorize(df['ReservationStatus'])[0]\n",
    "\n",
    "#Dropping irrelevent columns\n",
    "df.drop('ReservationStatus', axis=1, inplace=True)\n",
    "df.drop('ReservationStatusDate', axis=1, inplace=True)"
   ]
  },
  {
   "cell_type": "code",
   "execution_count": 257,
   "metadata": {},
   "outputs": [
    {
     "name": "stdout",
     "output_type": "stream",
     "text": [
      "   IsCanceled  LeadTime  ArrivalDateMonth  StaysInWeekendNights  \\\n",
      "0           0         6                 0                     0   \n",
      "1           1        88                 0                     0   \n",
      "2           1        65                 0                     0   \n",
      "3           1        92                 0                     2   \n",
      "4           1       100                 0                     0   \n",
      "\n",
      "   StaysInWeekNights  Adults  Children  Babies  Meal  Country  ...  \\\n",
      "0                  2       1         0       0     0        0  ...   \n",
      "1                  4       2         0       0     1        0  ...   \n",
      "2                  4       1         0       0     1        0  ...   \n",
      "3                  4       2         0       0     1        0  ...   \n",
      "4                  2       2         0       0     1        0  ...   \n",
      "\n",
      "   AssignedRoomType  BookingChanges  DepositType  Agent  Company  \\\n",
      "0                 0               0            0      0        0   \n",
      "1                 0               0            0      1        0   \n",
      "2                 0               0            0      1        0   \n",
      "3                 0               0            0      1        0   \n",
      "4                 0               0            0      1        0   \n",
      "\n",
      "   DaysInWaitingList  CustomerType   ADR  RequiredCarParkingSpaces  \\\n",
      "0                  0             0   0.0                         0   \n",
      "1                  0             0  76.5                         0   \n",
      "2                  0             0  68.0                         0   \n",
      "3                  0             0  76.5                         0   \n",
      "4                  0             0  76.5                         0   \n",
      "\n",
      "   TotalOfSpecialRequests  \n",
      "0                       0  \n",
      "1                       1  \n",
      "2                       1  \n",
      "3                       2  \n",
      "4                       1  \n",
      "\n",
      "[5 rows x 26 columns]\n"
     ]
    }
   ],
   "source": [
    "#pd.set_option('display.max_columns', None)\n",
    "print(df.head())"
   ]
  },
  {
   "cell_type": "markdown",
   "metadata": {},
   "source": [
    "Splitting the dataset into input features (X) and output (y)"
   ]
  },
  {
   "cell_type": "code",
   "execution_count": 258,
   "metadata": {
    "id": "sXTN5CCXnd7G"
   },
   "outputs": [],
   "source": [
    "X = df.drop('IsCanceled', axis=1)\n",
    "y = df['IsCanceled']"
   ]
  },
  {
   "cell_type": "markdown",
   "metadata": {},
   "source": [
    "Normalizing the input features"
   ]
  },
  {
   "cell_type": "code",
   "execution_count": 259,
   "metadata": {
    "id": "faxxaUfjngFv"
   },
   "outputs": [],
   "source": [
    "scaler = StandardScaler() \n",
    "X = scaler.fit_transform(X) "
   ]
  },
  {
   "cell_type": "markdown",
   "metadata": {},
   "source": [
    "Splitting dataset into training and testing sets"
   ]
  },
  {
   "cell_type": "code",
   "execution_count": 260,
   "metadata": {
    "id": "k-1KuJ-KnimM"
   },
   "outputs": [],
   "source": [
    "X_train, X_test, y_train, y_test = train_test_split(X, y, test_size=0.2, random_state=42) "
   ]
  },
  {
   "cell_type": "code",
   "execution_count": 261,
   "metadata": {
    "colab": {
     "base_uri": "https://localhost:8080/"
    },
    "id": "VEyOW83aeASf",
    "outputId": "8ce6570d-5ebc-4eb4-fbf4-fbc1ee12b53c"
   },
   "outputs": [
    {
     "name": "stdout",
     "output_type": "stream",
     "text": [
      "(63464, 25)\n",
      "(63464,)\n",
      "(15866, 25)\n",
      "(15866,)\n"
     ]
    }
   ],
   "source": [
    "print(X_train.shape)\n",
    "print(y_train.shape)\n",
    "print(X_test.shape)\n",
    "print(y_test.shape)"
   ]
  },
  {
   "cell_type": "markdown",
   "metadata": {
    "id": "dKq8hQ07P9t4"
   },
   "source": [
    "Defining model architecture"
   ]
  },
  {
   "cell_type": "code",
   "execution_count": 262,
   "metadata": {
    "id": "2an8RcxonmnG"
   },
   "outputs": [],
   "source": [
    "model = Sequential() \n",
    "model.add(Dense(64, input_dim=X_train.shape[1], activation='relu')) \n",
    "model.add(Dense(32, activation='relu'))\n",
    "model.add(Dense(16, activation='relu'))\n",
    "model.add(Dense(8, activation='relu'))\n",
    "model.add(Dense(1, activation='sigmoid'))"
   ]
  },
  {
   "cell_type": "markdown",
   "metadata": {
    "id": "MFS89WrRQBC8"
   },
   "source": [
    "Compiling model"
   ]
  },
  {
   "cell_type": "code",
   "execution_count": 263,
   "metadata": {
    "id": "4yZwOvxmnpvE"
   },
   "outputs": [],
   "source": [
    "model.compile(loss='binary_crossentropy', optimizer='adam', metrics=['accuracy'])"
   ]
  },
  {
   "cell_type": "markdown",
   "metadata": {},
   "source": [
    "Defining Model Checkpoint"
   ]
  },
  {
   "cell_type": "code",
   "execution_count": 264,
   "metadata": {},
   "outputs": [],
   "source": [
    "checkpoint_filepath = 'model.hdf5'\n",
    "model_checkpoint_callback = tf.keras.callbacks.ModelCheckpoint(\n",
    "    filepath=checkpoint_filepath, \n",
    "    save_weights_only=False, \n",
    "    monitor='val_accuracy', \n",
    "    mode='max', \n",
    "    save_best_only=True)"
   ]
  },
  {
   "cell_type": "markdown",
   "metadata": {
    "id": "T9nmHW8gQf6u"
   },
   "source": [
    "Fitting model on training data"
   ]
  },
  {
   "cell_type": "code",
   "execution_count": 265,
   "metadata": {
    "colab": {
     "base_uri": "https://localhost:8080/"
    },
    "id": "fIboIzWPnwCR",
    "outputId": "fee34cdf-2a1d-4bf3-c6f8-09815581af98"
   },
   "outputs": [
    {
     "name": "stdout",
     "output_type": "stream",
     "text": [
      "Epoch 1/5\n",
      "1984/1984 [==============================] - 5s 2ms/step - loss: 0.3958 - accuracy: 0.8136 - val_loss: 0.3646 - val_accuracy: 0.8226\n",
      "Epoch 2/5\n",
      "1984/1984 [==============================] - 4s 2ms/step - loss: 0.3508 - accuracy: 0.8337 - val_loss: 0.3474 - val_accuracy: 0.8349\n",
      "Epoch 3/5\n",
      "1984/1984 [==============================] - 4s 2ms/step - loss: 0.3399 - accuracy: 0.8387 - val_loss: 0.3409 - val_accuracy: 0.8398\n",
      "Epoch 4/5\n",
      "1984/1984 [==============================] - 4s 2ms/step - loss: 0.3309 - accuracy: 0.8428 - val_loss: 0.3335 - val_accuracy: 0.8451\n",
      "Epoch 5/5\n",
      "1984/1984 [==============================] - 4s 2ms/step - loss: 0.3243 - accuracy: 0.8465 - val_loss: 0.3354 - val_accuracy: 0.8422\n"
     ]
    }
   ],
   "source": [
    "history = model.fit(X_train, y_train, \n",
    "                    epochs=5, \n",
    "                    batch_size=32, \n",
    "                    validation_data=(X_test, y_test),\n",
    "                    callbacks=[model_checkpoint_callback])"
   ]
  },
  {
   "cell_type": "markdown",
   "metadata": {},
   "source": [
    "Loading model saved in earlier step"
   ]
  },
  {
   "cell_type": "code",
   "execution_count": 266,
   "metadata": {},
   "outputs": [],
   "source": [
    "model = load_model(checkpoint_filepath)"
   ]
  },
  {
   "cell_type": "markdown",
   "metadata": {
    "id": "S2FdZ226Qp7h"
   },
   "source": [
    "Evaluating model on test data"
   ]
  },
  {
   "cell_type": "code",
   "execution_count": 267,
   "metadata": {
    "colab": {
     "base_uri": "https://localhost:8080/"
    },
    "id": "qn04Pg-JQq5T",
    "outputId": "a5b55c46-d506-4232-d0f0-f599b8ef5894"
   },
   "outputs": [
    {
     "name": "stdout",
     "output_type": "stream",
     "text": [
      "496/496 [==============================] - 1s 1ms/step - loss: 0.3335 - accuracy: 0.8451\n"
     ]
    }
   ],
   "source": [
    "score = model.evaluate(X_test, y_test)"
   ]
  },
  {
   "cell_type": "code",
   "execution_count": 268,
   "metadata": {
    "colab": {
     "base_uri": "https://localhost:8080/"
    },
    "id": "uax0S3s-jpZo",
    "outputId": "45462d5c-e585-4ecd-a6c0-9ff37c14ccf6"
   },
   "outputs": [
    {
     "data": {
      "text/plain": [
       "[0.3335217833518982, 0.8450775146484375]"
      ]
     },
     "execution_count": 268,
     "metadata": {},
     "output_type": "execute_result"
    }
   ],
   "source": [
    "score"
   ]
  },
  {
   "cell_type": "markdown",
   "metadata": {
    "id": "Qjw5Adk2Qzrd"
   },
   "source": [
    "Visualizing Accuracy and Loss"
   ]
  },
  {
   "cell_type": "code",
   "execution_count": 269,
   "metadata": {
    "id": "l2H4pOn_crVk"
   },
   "outputs": [],
   "source": [
    "import matplotlib.pyplot as plt"
   ]
  },
  {
   "cell_type": "markdown",
   "metadata": {},
   "source": [
    "Plotting the training and validation accuracy over epochs"
   ]
  },
  {
   "cell_type": "code",
   "execution_count": 270,
   "metadata": {
    "colab": {
     "base_uri": "https://localhost:8080/",
     "height": 295
    },
    "id": "zFG-6Ypscr7q",
    "outputId": "67eac0a8-ede6-4fd2-ca9a-4e07c32a2459"
   },
   "outputs": [
    {
     "data": {
      "image/png": "[encoded data removed]",
      "text/plain": [
       "<Figure size 640x480 with 1 Axes>"
      ]
     },
     "metadata": {},
     "output_type": "display_data"
    }
   ],
   "source": [
    "plt.plot(history.history['accuracy']) \n",
    "plt.plot(history.history['val_accuracy'])\n",
    "plt.title('Model Accuracy')\n",
    "plt.ylabel('Accuracy')\n",
    "plt.xlabel('Epoch')\n",
    "plt.legend(['Train', 'Validation'], loc='upper left')\n",
    "plt.show()"
   ]
  },
  {
   "cell_type": "markdown",
   "metadata": {},
   "source": [
    "Plotting the training and validation loss over epochs"
   ]
  },
  {
   "cell_type": "code",
   "execution_count": 271,
   "metadata": {
    "colab": {
     "base_uri": "https://localhost:8080/",
     "height": 295
    },
    "id": "Ne5g4aG_cvWX",
    "outputId": "5f2c12e3-bb85-46ea-d7ea-b39e679e8f9c"
   },
   "outputs": [
    {
     "data": {
      "image/png": "[encoded data removed]",
      "text/plain": [
       "<Figure size 640x480 with 1 Axes>"
      ]
     },
     "metadata": {},
     "output_type": "display_data"
    }
   ],
   "source": [
    "plt.plot(history.history['loss'])\n",
    "plt.plot(history.history['val_loss'])\n",
    "plt.title('Model Loss')\n",
    "plt.ylabel('Loss')\n",
    "plt.xlabel('Epoch')\n",
    "plt.legend(['Train', 'Validation'], loc='upper left')\n",
    "plt.show()"
   ]
  }
 ],
 "metadata": {
  "colab": {
   "provenance": []
  },
  "kernelspec": {
   "display_name": "Python 3 (ipykernel)",
   "language": "python",
   "name": "python3"
  },
  "language_info": {
   "codemirror_mode": {
    "name": "ipython",
    "version": 3
   },
   "file_extension": ".py",
   "mimetype": "text/x-python",
   "name": "python",
   "nbconvert_exporter": "python",
   "pygments_lexer": "ipython3",
   "version": "3.10.9"
  }
 },
 "nbformat": 4,
 "nbformat_minor": 1
}
