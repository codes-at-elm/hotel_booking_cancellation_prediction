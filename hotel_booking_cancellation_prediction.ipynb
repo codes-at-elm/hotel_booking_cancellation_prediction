{
 "cells": [
  {
   "cell_type": "markdown",
   "metadata": {
    "id": "wISsMYJfPqI_"
   },
   "source": [
    "Importing libraries and modules"
   ]
  },
  {
   "cell_type": "code",
   "execution_count": 55,
   "metadata": {
    "id": "2aKBs1BdnVHl"
   },
   "outputs": [],
   "source": [
    "import pandas as pd\n",
    "import tensorflow as tf\n",
    "from keras.models import Sequential, load_model \n",
    "from keras.layers import Dense \n",
    "from sklearn.model_selection import train_test_split \n",
    "from sklearn.preprocessing import StandardScaler "
   ]
  },
  {
   "cell_type": "markdown",
   "metadata": {
    "id": "v4UIXTkOPs2D"
   },
   "source": [
    "Importing dataset"
   ]
  },
  {
   "cell_type": "code",
   "execution_count": 56,
   "metadata": {
    "id": "4ydvP2TlndQq"
   },
   "outputs": [],
   "source": [
    "df = pd.read_csv('H2.csv')"
   ]
  },
  {
   "cell_type": "markdown",
   "metadata": {
    "id": "fkQjiQytTx5h"
   },
   "source": [
    "Inspecting the dataset"
   ]
  },
  {
   "cell_type": "code",
   "execution_count": 57,
   "metadata": {},
   "outputs": [
    {
     "name": "stdout",
     "output_type": "stream",
     "text": [
      "<class 'pandas.core.frame.DataFrame'>\n",
      "RangeIndex: 79330 entries, 0 to 79329\n",
      "Data columns (total 31 columns):\n",
      " #   Column                       Non-Null Count  Dtype  \n",
      "---  ------                       --------------  -----  \n",
      " 0   IsCanceled                   79330 non-null  int64  \n",
      " 1   LeadTime                     79330 non-null  int64  \n",
      " 2   ArrivalDateYear              79330 non-null  int64  \n",
      " 3   ArrivalDateMonth             79330 non-null  object \n",
      " 4   ArrivalDateWeekNumber        79330 non-null  int64  \n",
      " 5   ArrivalDateDayOfMonth        79330 non-null  int64  \n",
      " 6   StaysInWeekendNights         79330 non-null  int64  \n",
      " 7   StaysInWeekNights            79330 non-null  int64  \n",
      " 8   Adults                       79330 non-null  int64  \n",
      " 9   Children                     79326 non-null  float64\n",
      " 10  Babies                       79330 non-null  int64  \n",
      " 11  Meal                         79330 non-null  object \n",
      " 12  Country                      79306 non-null  object \n",
      " 13  MarketSegment                79330 non-null  object \n",
      " 14  DistributionChannel          79330 non-null  object \n",
      " 15  IsRepeatedGuest              79330 non-null  int64  \n",
      " 16  PreviousCancellations        79330 non-null  int64  \n",
      " 17  PreviousBookingsNotCanceled  79330 non-null  int64  \n",
      " 18  ReservedRoomType             79330 non-null  object \n",
      " 19  AssignedRoomType             79330 non-null  object \n",
      " 20  BookingChanges               79330 non-null  int64  \n",
      " 21  DepositType                  79330 non-null  object \n",
      " 22  Agent                        79330 non-null  object \n",
      " 23  Company                      79330 non-null  object \n",
      " 24  DaysInWaitingList            79330 non-null  int64  \n",
      " 25  CustomerType                 79330 non-null  object \n",
      " 26  ADR                          79330 non-null  float64\n",
      " 27  RequiredCarParkingSpaces     79330 non-null  int64  \n",
      " 28  TotalOfSpecialRequests       79330 non-null  int64  \n",
      " 29  ReservationStatus            79330 non-null  object \n",
      " 30  ReservationStatusDate        79330 non-null  object \n",
      "dtypes: float64(2), int64(16), object(13)\n",
      "memory usage: 18.8+ MB\n"
     ]
    }
   ],
   "source": [
    "df.info()"
   ]
  },
  {
   "cell_type": "code",
   "execution_count": 69,
   "metadata": {},
   "outputs": [
    {
     "data": {
      "text/html": [
       "<div>\n",
       "<style scoped>\n",
       "    .dataframe tbody tr th:only-of-type {\n",
       "        vertical-align: middle;\n",
       "    }\n",
       "\n",
       "    .dataframe tbody tr th {\n",
       "        vertical-align: top;\n",
       "    }\n",
       "\n",
       "    .dataframe thead th {\n",
       "        text-align: right;\n",
       "    }\n",
       "</style>\n",
       "<table border=\"1\" class=\"dataframe\">\n",
       "  <thead>\n",
       "    <tr style=\"text-align: right;\">\n",
       "      <th></th>\n",
       "      <th>IsCanceled</th>\n",
       "      <th>LeadTime</th>\n",
       "      <th>ArrivalDateMonth</th>\n",
       "      <th>StaysInWeekendNights</th>\n",
       "      <th>StaysInWeekNights</th>\n",
       "      <th>Adults</th>\n",
       "      <th>Children</th>\n",
       "      <th>Babies</th>\n",
       "      <th>Country</th>\n",
       "      <th>MarketSegment</th>\n",
       "      <th>...</th>\n",
       "      <th>AssignedRoomType</th>\n",
       "      <th>BookingChanges</th>\n",
       "      <th>DepositType</th>\n",
       "      <th>Agent</th>\n",
       "      <th>Company</th>\n",
       "      <th>DaysInWaitingList</th>\n",
       "      <th>CustomerType</th>\n",
       "      <th>ADR</th>\n",
       "      <th>RequiredCarParkingSpaces</th>\n",
       "      <th>TotalOfSpecialRequests</th>\n",
       "    </tr>\n",
       "  </thead>\n",
       "  <tbody>\n",
       "    <tr>\n",
       "      <th>count</th>\n",
       "      <td>79330.000000</td>\n",
       "      <td>79330.000000</td>\n",
       "      <td>79330.000000</td>\n",
       "      <td>79330.000000</td>\n",
       "      <td>79330.000000</td>\n",
       "      <td>79330.000000</td>\n",
       "      <td>79330.000000</td>\n",
       "      <td>79330.000000</td>\n",
       "      <td>79330.000000</td>\n",
       "      <td>79330.000000</td>\n",
       "      <td>...</td>\n",
       "      <td>79330.000000</td>\n",
       "      <td>79330.000000</td>\n",
       "      <td>79330.000000</td>\n",
       "      <td>79330.000000</td>\n",
       "      <td>79330.000000</td>\n",
       "      <td>79330.000000</td>\n",
       "      <td>79330.000000</td>\n",
       "      <td>79330.000000</td>\n",
       "      <td>79330.000000</td>\n",
       "      <td>79330.000000</td>\n",
       "    </tr>\n",
       "    <tr>\n",
       "      <th>mean</th>\n",
       "      <td>0.417270</td>\n",
       "      <td>109.735724</td>\n",
       "      <td>6.556473</td>\n",
       "      <td>0.795185</td>\n",
       "      <td>2.182957</td>\n",
       "      <td>1.850977</td>\n",
       "      <td>0.091365</td>\n",
       "      <td>0.004941</td>\n",
       "      <td>6.743414</td>\n",
       "      <td>1.377751</td>\n",
       "      <td>...</td>\n",
       "      <td>0.851002</td>\n",
       "      <td>0.187369</td>\n",
       "      <td>0.162713</td>\n",
       "      <td>25.260003</td>\n",
       "      <td>6.755414</td>\n",
       "      <td>3.226774</td>\n",
       "      <td>0.287558</td>\n",
       "      <td>105.304465</td>\n",
       "      <td>0.024367</td>\n",
       "      <td>0.546918</td>\n",
       "    </tr>\n",
       "    <tr>\n",
       "      <th>std</th>\n",
       "      <td>0.493111</td>\n",
       "      <td>110.948526</td>\n",
       "      <td>3.042898</td>\n",
       "      <td>0.885026</td>\n",
       "      <td>1.456416</td>\n",
       "      <td>0.509292</td>\n",
       "      <td>0.372168</td>\n",
       "      <td>0.084323</td>\n",
       "      <td>13.525431</td>\n",
       "      <td>1.293677</td>\n",
       "      <td>...</td>\n",
       "      <td>1.470098</td>\n",
       "      <td>0.608620</td>\n",
       "      <td>0.369788</td>\n",
       "      <td>54.139157</td>\n",
       "      <td>40.033529</td>\n",
       "      <td>20.870890</td>\n",
       "      <td>0.533871</td>\n",
       "      <td>43.602954</td>\n",
       "      <td>0.154919</td>\n",
       "      <td>0.780776</td>\n",
       "    </tr>\n",
       "    <tr>\n",
       "      <th>min</th>\n",
       "      <td>0.000000</td>\n",
       "      <td>0.000000</td>\n",
       "      <td>1.000000</td>\n",
       "      <td>0.000000</td>\n",
       "      <td>0.000000</td>\n",
       "      <td>0.000000</td>\n",
       "      <td>0.000000</td>\n",
       "      <td>0.000000</td>\n",
       "      <td>0.000000</td>\n",
       "      <td>0.000000</td>\n",
       "      <td>...</td>\n",
       "      <td>0.000000</td>\n",
       "      <td>0.000000</td>\n",
       "      <td>0.000000</td>\n",
       "      <td>0.000000</td>\n",
       "      <td>0.000000</td>\n",
       "      <td>0.000000</td>\n",
       "      <td>0.000000</td>\n",
       "      <td>0.000000</td>\n",
       "      <td>0.000000</td>\n",
       "      <td>0.000000</td>\n",
       "    </tr>\n",
       "    <tr>\n",
       "      <th>25%</th>\n",
       "      <td>0.000000</td>\n",
       "      <td>23.000000</td>\n",
       "      <td>4.000000</td>\n",
       "      <td>0.000000</td>\n",
       "      <td>1.000000</td>\n",
       "      <td>2.000000</td>\n",
       "      <td>0.000000</td>\n",
       "      <td>0.000000</td>\n",
       "      <td>0.000000</td>\n",
       "      <td>1.000000</td>\n",
       "      <td>...</td>\n",
       "      <td>0.000000</td>\n",
       "      <td>0.000000</td>\n",
       "      <td>0.000000</td>\n",
       "      <td>7.000000</td>\n",
       "      <td>0.000000</td>\n",
       "      <td>0.000000</td>\n",
       "      <td>0.000000</td>\n",
       "      <td>79.200000</td>\n",
       "      <td>0.000000</td>\n",
       "      <td>0.000000</td>\n",
       "    </tr>\n",
       "    <tr>\n",
       "      <th>50%</th>\n",
       "      <td>0.000000</td>\n",
       "      <td>74.000000</td>\n",
       "      <td>7.000000</td>\n",
       "      <td>1.000000</td>\n",
       "      <td>2.000000</td>\n",
       "      <td>2.000000</td>\n",
       "      <td>0.000000</td>\n",
       "      <td>0.000000</td>\n",
       "      <td>3.000000</td>\n",
       "      <td>1.000000</td>\n",
       "      <td>...</td>\n",
       "      <td>0.000000</td>\n",
       "      <td>0.000000</td>\n",
       "      <td>0.000000</td>\n",
       "      <td>9.000000</td>\n",
       "      <td>0.000000</td>\n",
       "      <td>0.000000</td>\n",
       "      <td>0.000000</td>\n",
       "      <td>99.900000</td>\n",
       "      <td>0.000000</td>\n",
       "      <td>0.000000</td>\n",
       "    </tr>\n",
       "    <tr>\n",
       "      <th>75%</th>\n",
       "      <td>1.000000</td>\n",
       "      <td>163.000000</td>\n",
       "      <td>9.000000</td>\n",
       "      <td>2.000000</td>\n",
       "      <td>3.000000</td>\n",
       "      <td>2.000000</td>\n",
       "      <td>0.000000</td>\n",
       "      <td>0.000000</td>\n",
       "      <td>6.000000</td>\n",
       "      <td>2.000000</td>\n",
       "      <td>...</td>\n",
       "      <td>2.000000</td>\n",
       "      <td>0.000000</td>\n",
       "      <td>0.000000</td>\n",
       "      <td>14.000000</td>\n",
       "      <td>0.000000</td>\n",
       "      <td>0.000000</td>\n",
       "      <td>1.000000</td>\n",
       "      <td>126.000000</td>\n",
       "      <td>0.000000</td>\n",
       "      <td>1.000000</td>\n",
       "    </tr>\n",
       "    <tr>\n",
       "      <th>max</th>\n",
       "      <td>1.000000</td>\n",
       "      <td>629.000000</td>\n",
       "      <td>12.000000</td>\n",
       "      <td>16.000000</td>\n",
       "      <td>41.000000</td>\n",
       "      <td>4.000000</td>\n",
       "      <td>3.000000</td>\n",
       "      <td>10.000000</td>\n",
       "      <td>166.000000</td>\n",
       "      <td>7.000000</td>\n",
       "      <td>...</td>\n",
       "      <td>8.000000</td>\n",
       "      <td>21.000000</td>\n",
       "      <td>2.000000</td>\n",
       "      <td>509.000000</td>\n",
       "      <td>497.000000</td>\n",
       "      <td>391.000000</td>\n",
       "      <td>3.000000</td>\n",
       "      <td>5400.000000</td>\n",
       "      <td>3.000000</td>\n",
       "      <td>5.000000</td>\n",
       "    </tr>\n",
       "  </tbody>\n",
       "</table>\n",
       "<p>8 rows × 25 columns</p>\n",
       "</div>"
      ],
      "text/plain": [
       "         IsCanceled      LeadTime  ArrivalDateMonth  StaysInWeekendNights  \\\n",
       "count  79330.000000  79330.000000      79330.000000          79330.000000   \n",
       "mean       0.417270    109.735724          6.556473              0.795185   \n",
       "std        0.493111    110.948526          3.042898              0.885026   \n",
       "min        0.000000      0.000000          1.000000              0.000000   \n",
       "25%        0.000000     23.000000          4.000000              0.000000   \n",
       "50%        0.000000     74.000000          7.000000              1.000000   \n",
       "75%        1.000000    163.000000          9.000000              2.000000   \n",
       "max        1.000000    629.000000         12.000000             16.000000   \n",
       "\n",
       "       StaysInWeekNights        Adults      Children        Babies  \\\n",
       "count       79330.000000  79330.000000  79330.000000  79330.000000   \n",
       "mean            2.182957      1.850977      0.091365      0.004941   \n",
       "std             1.456416      0.509292      0.372168      0.084323   \n",
       "min             0.000000      0.000000      0.000000      0.000000   \n",
       "25%             1.000000      2.000000      0.000000      0.000000   \n",
       "50%             2.000000      2.000000      0.000000      0.000000   \n",
       "75%             3.000000      2.000000      0.000000      0.000000   \n",
       "max            41.000000      4.000000      3.000000     10.000000   \n",
       "\n",
       "            Country  MarketSegment  ...  AssignedRoomType  BookingChanges  \\\n",
       "count  79330.000000   79330.000000  ...      79330.000000    79330.000000   \n",
       "mean       6.743414       1.377751  ...          0.851002        0.187369   \n",
       "std       13.525431       1.293677  ...          1.470098        0.608620   \n",
       "min        0.000000       0.000000  ...          0.000000        0.000000   \n",
       "25%        0.000000       1.000000  ...          0.000000        0.000000   \n",
       "50%        3.000000       1.000000  ...          0.000000        0.000000   \n",
       "75%        6.000000       2.000000  ...          2.000000        0.000000   \n",
       "max      166.000000       7.000000  ...          8.000000       21.000000   \n",
       "\n",
       "        DepositType         Agent       Company  DaysInWaitingList  \\\n",
       "count  79330.000000  79330.000000  79330.000000       79330.000000   \n",
       "mean       0.162713     25.260003      6.755414           3.226774   \n",
       "std        0.369788     54.139157     40.033529          20.870890   \n",
       "min        0.000000      0.000000      0.000000           0.000000   \n",
       "25%        0.000000      7.000000      0.000000           0.000000   \n",
       "50%        0.000000      9.000000      0.000000           0.000000   \n",
       "75%        0.000000     14.000000      0.000000           0.000000   \n",
       "max        2.000000    509.000000    497.000000         391.000000   \n",
       "\n",
       "       CustomerType           ADR  RequiredCarParkingSpaces  \\\n",
       "count  79330.000000  79330.000000              79330.000000   \n",
       "mean       0.287558    105.304465                  0.024367   \n",
       "std        0.533871     43.602954                  0.154919   \n",
       "min        0.000000      0.000000                  0.000000   \n",
       "25%        0.000000     79.200000                  0.000000   \n",
       "50%        0.000000     99.900000                  0.000000   \n",
       "75%        1.000000    126.000000                  0.000000   \n",
       "max        3.000000   5400.000000                  3.000000   \n",
       "\n",
       "       TotalOfSpecialRequests  \n",
       "count            79330.000000  \n",
       "mean                 0.546918  \n",
       "std                  0.780776  \n",
       "min                  0.000000  \n",
       "25%                  0.000000  \n",
       "50%                  0.000000  \n",
       "75%                  1.000000  \n",
       "max                  5.000000  \n",
       "\n",
       "[8 rows x 25 columns]"
      ]
     },
     "execution_count": 69,
     "metadata": {},
     "output_type": "execute_result"
    }
   ],
   "source": [
    "df.describe()"
   ]
  },
  {
   "cell_type": "code",
   "execution_count": 58,
   "metadata": {
    "colab": {
     "base_uri": "https://localhost:8080/",
     "height": 206
    },
    "id": "T_pSB3-sWQKS",
    "outputId": "8be18d53-4354-4422-dfa5-bf54c7b87bfd"
   },
   "outputs": [
    {
     "name": "stdout",
     "output_type": "stream",
     "text": [
      "   IsCanceled  LeadTime  ArrivalDateYear ArrivalDateMonth  \\\n",
      "0           0         6             2015             July   \n",
      "1           1        88             2015             July   \n",
      "2           1        65             2015             July   \n",
      "3           1        92             2015             July   \n",
      "4           1       100             2015             July   \n",
      "\n",
      "   ArrivalDateWeekNumber  ArrivalDateDayOfMonth  StaysInWeekendNights  \\\n",
      "0                     27                      1                     0   \n",
      "1                     27                      1                     0   \n",
      "2                     27                      1                     0   \n",
      "3                     27                      1                     2   \n",
      "4                     27                      2                     0   \n",
      "\n",
      "   StaysInWeekNights  Adults  Children  ...      DepositType Agent  \\\n",
      "0                  2       1       0.0  ...  No Deposit          6   \n",
      "1                  4       2       0.0  ...  No Deposit          9   \n",
      "2                  4       1       0.0  ...  No Deposit          9   \n",
      "3                  4       2       0.0  ...  No Deposit          9   \n",
      "4                  2       2       0.0  ...  No Deposit          9   \n",
      "\n",
      "       Company DaysInWaitingList CustomerType   ADR  RequiredCarParkingSpaces  \\\n",
      "0         NULL                 0    Transient   0.0                         0   \n",
      "1         NULL                 0    Transient  76.5                         0   \n",
      "2         NULL                 0    Transient  68.0                         0   \n",
      "3         NULL                 0    Transient  76.5                         0   \n",
      "4         NULL                 0    Transient  76.5                         0   \n",
      "\n",
      "   TotalOfSpecialRequests ReservationStatus ReservationStatusDate  \n",
      "0                       0         Check-Out              7/3/2015  \n",
      "1                       1          Canceled              7/1/2015  \n",
      "2                       1          Canceled             4/30/2015  \n",
      "3                       2          Canceled             6/23/2015  \n",
      "4                       1          Canceled              4/2/2015  \n",
      "\n",
      "[5 rows x 31 columns]\n"
     ]
    }
   ],
   "source": [
    "#pd.set_option('display.max_columns', None)\n",
    "print(df.head())"
   ]
  },
  {
   "cell_type": "markdown",
   "metadata": {
    "id": "MFygGkTEP0WT"
   },
   "source": [
    "Preprocess input data"
   ]
  },
  {
   "cell_type": "code",
   "execution_count": 59,
   "metadata": {
    "id": "ZMZ_dmfFytNO"
   },
   "outputs": [],
   "source": [
    "#Dropping columns that does not have significance in predicting hotel booking cancellation\n",
    "df.drop('ArrivalDateYear', axis=1, inplace=True)\n",
    "df.drop('ArrivalDateWeekNumber', axis=1, inplace=True)\n",
    "df.drop('ArrivalDateDayOfMonth', axis=1, inplace=True)\n",
    "\n",
    "#Converting text values in ArrivalDateMonth column to numeric values\n",
    "month_dict = {'January':1, 'February':2, 'March':3, 'April':4, 'May':5, 'June':6,\n",
    "              'July':7, 'August':8, 'September':9, 'October':10, 'November':11, 'December':12 }\n",
    "df[\"ArrivalDateMonth\"] = df[\"ArrivalDateMonth\"].apply(lambda x: month_dict.get(x))\n",
    "\n",
    "#Converting Children column to integer\n",
    "df['Children'] = df['Children'].fillna(0)\n",
    "df[\"Children\"] = df[\"Children\"].astype(int)\n",
    "\n",
    "#Converting text values in Meal column to numeric values\n",
    "df['Meal'] = df['Meal'].str.strip()\n",
    "df['Meal'].mask(df['Meal'] == 'SC', 0, inplace=True)\n",
    "df['Meal'].mask(df['Meal'] == 'BB', 1, inplace=True)\n",
    "df['Meal'].mask(df['Meal'] == 'HB', 2, inplace=True)\n",
    "df['Meal'].mask(df['Meal'] == 'FB', 3, inplace=True)\n",
    "\n",
    "#Converting text values in Country column to numeric values\n",
    "country_dict = dict.fromkeys(df.Country.unique())\n",
    "country_dict = dict(zip(country_dict, range(0,len(df.Country.unique()))))\n",
    "df[\"Country\"] = df[\"Country\"].apply(lambda x: country_dict.get(x))\n",
    "\n",
    "#Converting text values in MarketSegment column to numeric values\n",
    "market_segment_dict = dict.fromkeys(df.MarketSegment.unique())\n",
    "market_segment_dict = dict(zip(market_segment_dict, range(0,len(df.MarketSegment.unique()))))\n",
    "df[\"MarketSegment\"] = df[\"MarketSegment\"].apply(lambda x: market_segment_dict.get(x))\n",
    "\n",
    "#Converting text values in DistributionChannel column to numeric values\n",
    "distribution_channel_dict = dict.fromkeys(df.DistributionChannel.unique())\n",
    "distribution_channel_dict = dict(zip(distribution_channel_dict, range(0,len(df.DistributionChannel.unique()))))\n",
    "df[\"DistributionChannel\"] = df[\"DistributionChannel\"].apply(lambda x: distribution_channel_dict.get(x))\n",
    "\n",
    "#Converting text values in ReservedRoomType column to numeric values\n",
    "df['ReservedRoomType'] = df['ReservedRoomType'].str.strip()\n",
    "reserved_room_type_dict = dict.fromkeys(df.ReservedRoomType.unique())\n",
    "reserved_room_type_dict = dict(zip(reserved_room_type_dict, range(0,len(df.ReservedRoomType.unique()))))\n",
    "df[\"ReservedRoomType\"] = df[\"ReservedRoomType\"].apply(lambda x: reserved_room_type_dict.get(x))\n",
    "\n",
    "#Converting text values in AssignedRoomType column to numeric values\n",
    "df['AssignedRoomType'] = df['AssignedRoomType'].str.strip()\n",
    "assigned_room_type_dict = dict.fromkeys(df.AssignedRoomType.unique())\n",
    "assigned_room_type_dict = dict(zip(assigned_room_type_dict, range(0,len(df.AssignedRoomType.unique()))))\n",
    "df[\"AssignedRoomType\"] = df[\"AssignedRoomType\"].apply(lambda x: assigned_room_type_dict.get(x))\n",
    "\n",
    "#Converting text values in DepositType column to numeric values\n",
    "df['DepositType'] = df['DepositType'].str.strip()\n",
    "deposit_type_dict = dict.fromkeys(df.DepositType.unique())\n",
    "deposit_type_dict = dict(zip(deposit_type_dict, range(0,len(df.DepositType.unique()))))\n",
    "df[\"DepositType\"] = df[\"DepositType\"].apply(lambda x: deposit_type_dict.get(x))\n",
    "\n",
    "#Replacing '       NULL' value in Agent column to 0 \n",
    "df['Agent'] = df.Agent.apply(lambda a: 0 if a == '       NULL' else a)\n",
    "#Converting Agent column to integer\n",
    "df['Agent'] = df['Agent'].astype(int)\n",
    "#Replacing '       NULL' value in Company column to 0\n",
    "df['Company'] = df.Company.apply(lambda c: 0 if c == '       NULL' else c)\n",
    "#Converting Company column to integer\n",
    "df['Company'] = df['Company'].astype(int)\n",
    "\n",
    "#Converting text values in CustomerType column to numeric values\n",
    "customer_type_dict = dict.fromkeys(df.CustomerType.unique())\n",
    "customer_type_dict = dict(zip(customer_type_dict, range(0,len(df.CustomerType.unique()))))\n",
    "df[\"CustomerType\"] = df[\"CustomerType\"].apply(lambda x: customer_type_dict.get(x))\n",
    "\n",
    "#Converting text values in ReservationStatus column to numeric values\n",
    "reservation_status_dict = dict.fromkeys(df.ReservationStatus.unique())\n",
    "reservation_status_dict = dict(zip(reservation_status_dict, range(0,len(df.ReservationStatus.unique()))))\n",
    "df[\"ReservationStatus\"] = df[\"ReservationStatus\"].apply(lambda x: reservation_status_dict.get(x))\n",
    "\n",
    "#Dropping ReservationStatus column\n",
    "df.drop('ReservationStatus', axis=1, inplace=True)\n",
    "\n",
    "#Dropping ReservationStatusDate column \n",
    "df.drop('ReservationStatusDate', axis=1, inplace=True)"
   ]
  },
  {
   "cell_type": "code",
   "execution_count": 60,
   "metadata": {},
   "outputs": [
    {
     "name": "stdout",
     "output_type": "stream",
     "text": [
      "   IsCanceled  LeadTime  ArrivalDateMonth  StaysInWeekendNights  \\\n",
      "0           0         6                 7                     0   \n",
      "1           1        88                 7                     0   \n",
      "2           1        65                 7                     0   \n",
      "3           1        92                 7                     2   \n",
      "4           1       100                 7                     0   \n",
      "\n",
      "   StaysInWeekNights  Adults  Children  Babies Meal  Country  ...  \\\n",
      "0                  2       1         0       0    2        0  ...   \n",
      "1                  4       2         0       0    1        0  ...   \n",
      "2                  4       1         0       0    1        0  ...   \n",
      "3                  4       2         0       0    1        0  ...   \n",
      "4                  2       2         0       0    1        0  ...   \n",
      "\n",
      "   AssignedRoomType  BookingChanges  DepositType  Agent  Company  \\\n",
      "0                 0               0            0      6        0   \n",
      "1                 0               0            0      9        0   \n",
      "2                 0               0            0      9        0   \n",
      "3                 0               0            0      9        0   \n",
      "4                 0               0            0      9        0   \n",
      "\n",
      "   DaysInWaitingList  CustomerType   ADR  RequiredCarParkingSpaces  \\\n",
      "0                  0             0   0.0                         0   \n",
      "1                  0             0  76.5                         0   \n",
      "2                  0             0  68.0                         0   \n",
      "3                  0             0  76.5                         0   \n",
      "4                  0             0  76.5                         0   \n",
      "\n",
      "   TotalOfSpecialRequests  \n",
      "0                       0  \n",
      "1                       1  \n",
      "2                       1  \n",
      "3                       2  \n",
      "4                       1  \n",
      "\n",
      "[5 rows x 26 columns]\n"
     ]
    }
   ],
   "source": [
    "#pd.set_option('display.max_columns', None)\n",
    "print(df.head())"
   ]
  },
  {
   "cell_type": "markdown",
   "metadata": {},
   "source": [
    "Splitting the dataset into input features (X) and output (y)"
   ]
  },
  {
   "cell_type": "code",
   "execution_count": 61,
   "metadata": {
    "id": "sXTN5CCXnd7G"
   },
   "outputs": [],
   "source": [
    "X = df.drop('IsCanceled', axis=1)\n",
    "y = df['IsCanceled']"
   ]
  },
  {
   "cell_type": "markdown",
   "metadata": {},
   "source": [
    "Normalizing the input features"
   ]
  },
  {
   "cell_type": "code",
   "execution_count": 62,
   "metadata": {
    "id": "faxxaUfjngFv"
   },
   "outputs": [],
   "source": [
    "scaler = StandardScaler() \n",
    "X = scaler.fit_transform(X) "
   ]
  },
  {
   "cell_type": "markdown",
   "metadata": {},
   "source": [
    "Splitting dataset into training and testing sets"
   ]
  },
  {
   "cell_type": "code",
   "execution_count": 63,
   "metadata": {
    "id": "k-1KuJ-KnimM"
   },
   "outputs": [],
   "source": [
    "X_train, X_test, y_train, y_test = train_test_split(X, y, test_size=0.2, random_state=42) "
   ]
  },
  {
   "cell_type": "code",
   "execution_count": 64,
   "metadata": {
    "colab": {
     "base_uri": "https://localhost:8080/"
    },
    "id": "VEyOW83aeASf",
    "outputId": "8ce6570d-5ebc-4eb4-fbf4-fbc1ee12b53c"
   },
   "outputs": [
    {
     "name": "stdout",
     "output_type": "stream",
     "text": [
      "(63464, 25)\n",
      "(63464,)\n",
      "(15866, 25)\n",
      "(15866,)\n"
     ]
    }
   ],
   "source": [
    "print(X_train.shape)\n",
    "print(y_train.shape)\n",
    "print(X_test.shape)\n",
    "print(y_test.shape)"
   ]
  },
  {
   "cell_type": "markdown",
   "metadata": {
    "id": "dKq8hQ07P9t4"
   },
   "source": [
    "Defining model architecture"
   ]
  },
  {
   "cell_type": "code",
   "execution_count": 65,
   "metadata": {
    "id": "2an8RcxonmnG"
   },
   "outputs": [],
   "source": [
    "model = Sequential() \n",
    "model.add(Dense(64, input_dim=X_train.shape[1], activation='relu')) \n",
    "model.add(Dense(32, activation='relu'))\n",
    "model.add(Dense(1, activation='sigmoid'))"
   ]
  },
  {
   "cell_type": "markdown",
   "metadata": {
    "id": "MFS89WrRQBC8"
   },
   "source": [
    "Compiling model"
   ]
  },
  {
   "cell_type": "code",
   "execution_count": 66,
   "metadata": {
    "id": "4yZwOvxmnpvE"
   },
   "outputs": [],
   "source": [
    "model.compile(loss='binary_crossentropy', optimizer='adam', metrics=['accuracy'])"
   ]
  },
  {
   "cell_type": "markdown",
   "metadata": {},
   "source": [
    "Defining Model Checkpoint"
   ]
  },
  {
   "cell_type": "code",
   "execution_count": 67,
   "metadata": {},
   "outputs": [],
   "source": [
    "checkpoint_filepath = 'model.hdf5'\n",
    "model_checkpoint_callback = tf.keras.callbacks.ModelCheckpoint(\n",
    "    filepath=checkpoint_filepath, \n",
    "    save_weights_only=False, \n",
    "    monitor='val_accuracy', \n",
    "    mode='max', \n",
    "    save_best_only=True)"
   ]
  },
  {
   "cell_type": "markdown",
   "metadata": {
    "id": "T9nmHW8gQf6u"
   },
   "source": [
    "Fitting model on training data"
   ]
  },
  {
   "cell_type": "code",
   "execution_count": 68,
   "metadata": {
    "colab": {
     "base_uri": "https://localhost:8080/"
    },
    "id": "fIboIzWPnwCR",
    "outputId": "fee34cdf-2a1d-4bf3-c6f8-09815581af98"
   },
   "outputs": [
    {
     "name": "stdout",
     "output_type": "stream",
     "text": [
      "Epoch 1/15\n",
      "1984/1984 [==============================] - 4s 2ms/step - loss: 0.4040 - accuracy: 0.8101 - val_loss: 0.3741 - val_accuracy: 0.8296\n",
      "Epoch 2/15\n",
      "1984/1984 [==============================] - 3s 2ms/step - loss: 0.3632 - accuracy: 0.8286 - val_loss: 0.3566 - val_accuracy: 0.8320\n",
      "Epoch 3/15\n",
      "1984/1984 [==============================] - 3s 2ms/step - loss: 0.3494 - accuracy: 0.8346 - val_loss: 0.3495 - val_accuracy: 0.8347\n",
      "Epoch 4/15\n",
      "1984/1984 [==============================] - 3s 2ms/step - loss: 0.3406 - accuracy: 0.8387 - val_loss: 0.3437 - val_accuracy: 0.8397\n",
      "Epoch 5/15\n",
      "1984/1984 [==============================] - 3s 2ms/step - loss: 0.3339 - accuracy: 0.8433 - val_loss: 0.3399 - val_accuracy: 0.8413\n",
      "Epoch 6/15\n",
      "1984/1984 [==============================] - 3s 2ms/step - loss: 0.3286 - accuracy: 0.8462 - val_loss: 0.3365 - val_accuracy: 0.8440\n",
      "Epoch 7/15\n",
      "1984/1984 [==============================] - 3s 2ms/step - loss: 0.3247 - accuracy: 0.8480 - val_loss: 0.3364 - val_accuracy: 0.8448\n",
      "Epoch 8/15\n",
      "1984/1984 [==============================] - 3s 2ms/step - loss: 0.3214 - accuracy: 0.8494 - val_loss: 0.3324 - val_accuracy: 0.8463\n",
      "Epoch 9/15\n",
      "1984/1984 [==============================] - 3s 2ms/step - loss: 0.3185 - accuracy: 0.8503 - val_loss: 0.3343 - val_accuracy: 0.8469\n",
      "Epoch 10/15\n",
      "1984/1984 [==============================] - 4s 2ms/step - loss: 0.3157 - accuracy: 0.8517 - val_loss: 0.3270 - val_accuracy: 0.8470\n",
      "Epoch 11/15\n",
      "1984/1984 [==============================] - 3s 2ms/step - loss: 0.3134 - accuracy: 0.8528 - val_loss: 0.3294 - val_accuracy: 0.8451\n",
      "Epoch 12/15\n",
      "1984/1984 [==============================] - 4s 2ms/step - loss: 0.3118 - accuracy: 0.8538 - val_loss: 0.3310 - val_accuracy: 0.8446\n",
      "Epoch 13/15\n",
      "1984/1984 [==============================] - 3s 2ms/step - loss: 0.3098 - accuracy: 0.8537 - val_loss: 0.3346 - val_accuracy: 0.8417\n",
      "Epoch 14/15\n",
      "1984/1984 [==============================] - 4s 2ms/step - loss: 0.3078 - accuracy: 0.8554 - val_loss: 0.3289 - val_accuracy: 0.8468\n",
      "Epoch 15/15\n",
      "1984/1984 [==============================] - 4s 2ms/step - loss: 0.3061 - accuracy: 0.8564 - val_loss: 0.3279 - val_accuracy: 0.8493\n"
     ]
    }
   ],
   "source": [
    "history = model.fit(X_train, y_train, \n",
    "                    epochs=15, \n",
    "                    batch_size=32, \n",
    "                    validation_data=(X_test, y_test),\n",
    "                    callbacks=[model_checkpoint_callback])"
   ]
  },
  {
   "cell_type": "markdown",
   "metadata": {},
   "source": [
    "Loading model saved in earlier step"
   ]
  },
  {
   "cell_type": "code",
   "execution_count": 49,
   "metadata": {},
   "outputs": [],
   "source": [
    "model = load_model(checkpoint_filepath)"
   ]
  },
  {
   "cell_type": "markdown",
   "metadata": {
    "id": "S2FdZ226Qp7h"
   },
   "source": [
    "Evaluating model on test data"
   ]
  },
  {
   "cell_type": "code",
   "execution_count": 50,
   "metadata": {
    "colab": {
     "base_uri": "https://localhost:8080/"
    },
    "id": "qn04Pg-JQq5T",
    "outputId": "a5b55c46-d506-4232-d0f0-f599b8ef5894"
   },
   "outputs": [
    {
     "name": "stdout",
     "output_type": "stream",
     "text": [
      "496/496 [==============================] - 1s 2ms/step - loss: 0.3330 - accuracy: 0.8439\n"
     ]
    }
   ],
   "source": [
    "score = model.evaluate(X_test, y_test)"
   ]
  },
  {
   "cell_type": "code",
   "execution_count": 51,
   "metadata": {
    "colab": {
     "base_uri": "https://localhost:8080/"
    },
    "id": "uax0S3s-jpZo",
    "outputId": "45462d5c-e585-4ecd-a6c0-9ff37c14ccf6"
   },
   "outputs": [
    {
     "data": {
      "text/plain": [
       "[0.3329674005508423, 0.8438799977302551]"
      ]
     },
     "execution_count": 51,
     "metadata": {},
     "output_type": "execute_result"
    }
   ],
   "source": [
    "score"
   ]
  },
  {
   "cell_type": "markdown",
   "metadata": {
    "id": "Qjw5Adk2Qzrd"
   },
   "source": [
    "Visualizing Accuracy and Loss"
   ]
  },
  {
   "cell_type": "code",
   "execution_count": 52,
   "metadata": {
    "id": "l2H4pOn_crVk"
   },
   "outputs": [],
   "source": [
    "import matplotlib.pyplot as plt"
   ]
  },
  {
   "cell_type": "markdown",
   "metadata": {},
   "source": [
    "Plotting the training and validation accuracy over epochs"
   ]
  },
  {
   "cell_type": "code",
   "execution_count": 53,
   "metadata": {
    "colab": {
     "base_uri": "https://localhost:8080/",
     "height": 295
    },
    "id": "zFG-6Ypscr7q",
    "outputId": "67eac0a8-ede6-4fd2-ca9a-4e07c32a2459"
   },
   "outputs": [
    {
     "data": {
      "image/png": "[encoded data removed]",
      "text/plain": [
       "<Figure size 640x480 with 1 Axes>"
      ]
     },
     "metadata": {},
     "output_type": "display_data"
    }
   ],
   "source": [
    "plt.plot(history.history['accuracy']) \n",
    "plt.plot(history.history['val_accuracy'])\n",
    "plt.title('Model Accuracy')\n",
    "plt.ylabel('Accuracy')\n",
    "plt.xlabel('Epoch')\n",
    "plt.legend(['Train', 'Validation'], loc='upper left')\n",
    "plt.show()"
   ]
  },
  {
   "cell_type": "markdown",
   "metadata": {},
   "source": [
    "Plotting the training and validation loss over epochs"
   ]
  },
  {
   "cell_type": "code",
   "execution_count": 54,
   "metadata": {
    "colab": {
     "base_uri": "https://localhost:8080/",
     "height": 295
    },
    "id": "Ne5g4aG_cvWX",
    "outputId": "5f2c12e3-bb85-46ea-d7ea-b39e679e8f9c"
   },
   "outputs": [
    {
     "data": {
      "image/png": "[encoded data removed]",
      "text/plain": [
       "<Figure size 640x480 with 1 Axes>"
      ]
     },
     "metadata": {},
     "output_type": "display_data"
    }
   ],
   "source": [
    "plt.plot(history.history['loss'])\n",
    "plt.plot(history.history['val_loss'])\n",
    "plt.title('Model Loss')\n",
    "plt.ylabel('Loss')\n",
    "plt.xlabel('Epoch')\n",
    "plt.legend(['Train', 'Validation'], loc='upper left')\n",
    "plt.show()"
   ]
  },
  {
   "cell_type": "code",
   "execution_count": null,
   "metadata": {},
   "outputs": [],
   "source": []
  },
  {
   "cell_type": "code",
   "execution_count": null,
   "metadata": {},
   "outputs": [],
   "source": []
  }
 ],
 "metadata": {
  "colab": {
   "provenance": []
  },
  "kernelspec": {
   "display_name": "Python 3 (ipykernel)",
   "language": "python",
   "name": "python3"
  },
  "language_info": {
   "codemirror_mode": {
    "name": "ipython",
    "version": 3
   },
   "file_extension": ".py",
   "mimetype": "text/x-python",
   "name": "python",
   "nbconvert_exporter": "python",
   "pygments_lexer": "ipython3",
   "version": "3.10.9"
  }
 },
 "nbformat": 4,
 "nbformat_minor": 1
}
